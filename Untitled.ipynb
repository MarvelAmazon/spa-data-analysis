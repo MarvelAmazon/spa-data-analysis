{
 "cells": [
  {
   "cell_type": "code",
   "execution_count": 423,
   "metadata": {},
   "outputs": [],
   "source": [
    "import pandas as pd\n",
    "import numpy as np"
   ]
  },
  {
   "cell_type": "code",
   "execution_count": 424,
   "metadata": {
    "tags": []
   },
   "outputs": [
    {
     "output_type": "stream",
     "name": "stdout",
     "text": "Requirement already satisfied: pyreadstat in c:\\users\\yvel marcelin\\anaconda3\\lib\\site-packages (0.3.4)\nRequirement already satisfied: pandas>0.24.0 in c:\\users\\yvel marcelin\\anaconda3\\lib\\site-packages (from pyreadstat) (0.25.1)\nRequirement already satisfied: python-dateutil>=2.6.1 in c:\\users\\yvel marcelin\\anaconda3\\lib\\site-packages (from pandas>0.24.0->pyreadstat) (2.8.1)\nRequirement already satisfied: pytz>=2017.2 in c:\\users\\yvel marcelin\\anaconda3\\lib\\site-packages (from pandas>0.24.0->pyreadstat) (2020.1)\nRequirement already satisfied: numpy>=1.13.3 in c:\\users\\yvel marcelin\\anaconda3\\lib\\site-packages (from pandas>0.24.0->pyreadstat) (1.17.2)\nRequirement already satisfied: six>=1.5 in c:\\users\\yvel marcelin\\anaconda3\\lib\\site-packages (from python-dateutil>=2.6.1->pandas>0.24.0->pyreadstat) (1.15.0)\n"
    }
   ],
   "source": [
    "!pip install pyreadstat"
   ]
  },
  {
   "cell_type": "code",
   "execution_count": 425,
   "metadata": {
    "tags": []
   },
   "outputs": [
    {
     "output_type": "stream",
     "name": "stdout",
     "text": "Warning: column count mismatch (2 + 183 != 1871)\n\n"
    }
   ],
   "source": [
    "# save the url of the file on the notebook\n",
    "url1 = \"datasets/spa_dataset/HTFC7ASDSP/HTFC7AFLSP.SAS7BDAT\"\n",
    "#label columns named convention\n",
    "url2 = \"datasets/spa_mapping_columns.csv\"\n",
    "#read the data \n",
    "spa_df = df = pd.read_sas(url1)\n",
    "# read the mapping index variable dataset\n",
    "df_var_name = pd.read_csv(url2 )\n"
   ]
  },
  {
   "cell_type": "code",
   "execution_count": 426,
   "metadata": {},
   "outputs": [],
   "source": [
    "# save the dataset as csv file and read it after\n",
    "spa_df =pd.read_csv('datasets/spa.csv')"
   ]
  },
  {
   "cell_type": "code",
   "execution_count": 427,
   "metadata": {},
   "outputs": [],
   "source": [
    "# top 5 rows on the dataset\n",
    "spa_df.drop(columns =['Unnamed: 0'],inplace =True)\n"
   ]
  },
  {
   "cell_type": "code",
   "execution_count": 428,
   "metadata": {},
   "outputs": [
    {
     "output_type": "execute_result",
     "data": {
      "text/plain": "   FACIL REC_TYPE  DEPART DEPARTN  VILCOM         VILCOMN  LOCALITY  FACTYPE  \\\n0      1        A       1   Ouest      11  Port-Au-Prince         1        7   \n1      2        A       1   Ouest      11  Port-Au-Prince         1        3   \n2      3        A       1   Ouest      11  Port-Au-Prince         1        6   \n3      4        A       1   Ouest      11  Port-Au-Prince         1        5   \n4      5        A       1   Ouest      11  Port-Au-Prince         1        6   \n\n   MGA  FTYPE  ...  Q3180  Q3181  Q3182  Q3183  Q3184  Q3185  Q3200  Q3201  \\\n0    3      1  ...    1.0    1.0    5.0    NaN    NaN    1.0    2.0    NaN   \n1    1      1  ...    4.0    2.0    5.0    NaN    NaN    2.0    2.0    NaN   \n2    3      1  ...    1.0    1.0    1.0    1.0    1.0    1.0    2.0    NaN   \n3    3      1  ...    2.0    1.0    4.0    NaN    1.0    2.0    2.0    NaN   \n4    2      1  ...    1.0    1.0    1.0    1.0    1.0    1.0    1.0    2.0   \n\n   Q3201A  Q3201B  \n0     NaN     NaN  \n1     NaN     NaN  \n2     NaN     NaN  \n3     NaN     NaN  \n4     1.0     3.0  \n\n[5 rows x 1871 columns]",
      "text/html": "<div>\n<style scoped>\n    .dataframe tbody tr th:only-of-type {\n        vertical-align: middle;\n    }\n\n    .dataframe tbody tr th {\n        vertical-align: top;\n    }\n\n    .dataframe thead th {\n        text-align: right;\n    }\n</style>\n<table border=\"1\" class=\"dataframe\">\n  <thead>\n    <tr style=\"text-align: right;\">\n      <th></th>\n      <th>FACIL</th>\n      <th>REC_TYPE</th>\n      <th>DEPART</th>\n      <th>DEPARTN</th>\n      <th>VILCOM</th>\n      <th>VILCOMN</th>\n      <th>LOCALITY</th>\n      <th>FACTYPE</th>\n      <th>MGA</th>\n      <th>FTYPE</th>\n      <th>...</th>\n      <th>Q3180</th>\n      <th>Q3181</th>\n      <th>Q3182</th>\n      <th>Q3183</th>\n      <th>Q3184</th>\n      <th>Q3185</th>\n      <th>Q3200</th>\n      <th>Q3201</th>\n      <th>Q3201A</th>\n      <th>Q3201B</th>\n    </tr>\n  </thead>\n  <tbody>\n    <tr>\n      <td>0</td>\n      <td>1</td>\n      <td>A</td>\n      <td>1</td>\n      <td>Ouest</td>\n      <td>11</td>\n      <td>Port-Au-Prince</td>\n      <td>1</td>\n      <td>7</td>\n      <td>3</td>\n      <td>1</td>\n      <td>...</td>\n      <td>1.0</td>\n      <td>1.0</td>\n      <td>5.0</td>\n      <td>NaN</td>\n      <td>NaN</td>\n      <td>1.0</td>\n      <td>2.0</td>\n      <td>NaN</td>\n      <td>NaN</td>\n      <td>NaN</td>\n    </tr>\n    <tr>\n      <td>1</td>\n      <td>2</td>\n      <td>A</td>\n      <td>1</td>\n      <td>Ouest</td>\n      <td>11</td>\n      <td>Port-Au-Prince</td>\n      <td>1</td>\n      <td>3</td>\n      <td>1</td>\n      <td>1</td>\n      <td>...</td>\n      <td>4.0</td>\n      <td>2.0</td>\n      <td>5.0</td>\n      <td>NaN</td>\n      <td>NaN</td>\n      <td>2.0</td>\n      <td>2.0</td>\n      <td>NaN</td>\n      <td>NaN</td>\n      <td>NaN</td>\n    </tr>\n    <tr>\n      <td>2</td>\n      <td>3</td>\n      <td>A</td>\n      <td>1</td>\n      <td>Ouest</td>\n      <td>11</td>\n      <td>Port-Au-Prince</td>\n      <td>1</td>\n      <td>6</td>\n      <td>3</td>\n      <td>1</td>\n      <td>...</td>\n      <td>1.0</td>\n      <td>1.0</td>\n      <td>1.0</td>\n      <td>1.0</td>\n      <td>1.0</td>\n      <td>1.0</td>\n      <td>2.0</td>\n      <td>NaN</td>\n      <td>NaN</td>\n      <td>NaN</td>\n    </tr>\n    <tr>\n      <td>3</td>\n      <td>4</td>\n      <td>A</td>\n      <td>1</td>\n      <td>Ouest</td>\n      <td>11</td>\n      <td>Port-Au-Prince</td>\n      <td>1</td>\n      <td>5</td>\n      <td>3</td>\n      <td>1</td>\n      <td>...</td>\n      <td>2.0</td>\n      <td>1.0</td>\n      <td>4.0</td>\n      <td>NaN</td>\n      <td>1.0</td>\n      <td>2.0</td>\n      <td>2.0</td>\n      <td>NaN</td>\n      <td>NaN</td>\n      <td>NaN</td>\n    </tr>\n    <tr>\n      <td>4</td>\n      <td>5</td>\n      <td>A</td>\n      <td>1</td>\n      <td>Ouest</td>\n      <td>11</td>\n      <td>Port-Au-Prince</td>\n      <td>1</td>\n      <td>6</td>\n      <td>2</td>\n      <td>1</td>\n      <td>...</td>\n      <td>1.0</td>\n      <td>1.0</td>\n      <td>1.0</td>\n      <td>1.0</td>\n      <td>1.0</td>\n      <td>1.0</td>\n      <td>1.0</td>\n      <td>2.0</td>\n      <td>1.0</td>\n      <td>3.0</td>\n    </tr>\n  </tbody>\n</table>\n<p>5 rows × 1871 columns</p>\n</div>"
     },
     "metadata": {},
     "execution_count": 428
    }
   ],
   "source": [
    "spa_df.head()"
   ]
  },
  {
   "cell_type": "code",
   "execution_count": 429,
   "metadata": {
    "tags": []
   },
   "outputs": [
    {
     "output_type": "stream",
     "name": "stdout",
     "text": "<class 'pandas.core.frame.DataFrame'>\nRangeIndex: 1033 entries, 0 to 1032\nColumns: 1871 entries, FACIL to Q3201B\ndtypes: float64(1827), int64(21), object(23)\nmemory usage: 14.7+ MB\n"
    }
   ],
   "source": [
    "# dataset info \n",
    "spa_df.info()"
   ]
  },
  {
   "cell_type": "code",
   "execution_count": 430,
   "metadata": {},
   "outputs": [],
   "source": [
    "# retrieve all columns need\n",
    "colums = list(set(spa_df.columns))"
   ]
  },
  {
   "cell_type": "code",
   "execution_count": 431,
   "metadata": {},
   "outputs": [
    {
     "output_type": "execute_result",
     "data": {
      "text/plain": "                        GLOBAL_VAR_NAME  \\\n0                 Number of facitilies    \n1      Number of generalists, full-time   \n2      Number of specialists, full-time   \n3  Number of lab technicians, full-time   \n4   Number of lab assistants, full-time   \n\n                                     VAR_NAME SAS_VAR_NAME  CAT_ID  CAT_DESC  \\\n0                     Facility identification        FACIL       1  Capacity   \n1                       MEDECINS GENERALISTES     Q400A_01       1  Capacity   \n2                       MEDECINS SPECIALISTES     Q400A_02       1  Capacity   \n3                   TECHNICIEN DE LABORATOIRE     Q400A_03       1  Capacity   \n4  AUXILIAIRE DE LABORATOIRE (Y COMPRIS AIDE)     Q400A_04       1  Capacity   \n\n  Conditions   Ranking Castelline    Morgan    Sylvie  \\\n0        NaN  Top-Tier   Top-Tier  Mid-Tier  Top-Tier   \n1        NaN  Top-Tier   Top-Tier  Mid-Tier  Top-Tier   \n2        NaN       NaN   Mid-Tier  Low-Tier  Mid-Tier   \n3        NaN  Top-Tier   Mid-Tier  Low-Tier  Top-Tier   \n4        NaN  Top-Tier   Low-Tier  Low-Tier  Mid-Tier   \n\n                                               Notes  Unnamed: 11 Unnamed: 12  \n0  Raw counts/per 10,000 population/counts by lan...          NaN         NaN  \n1                                                NaN          NaN         NaN  \n2                                                NaN          NaN         NaN  \n3  Existence of at least 1 lab technician; Count ...  Deeper Dive         NaN  \n4                                                NaN          NaN         NaN  ",
      "text/html": "<div>\n<style scoped>\n    .dataframe tbody tr th:only-of-type {\n        vertical-align: middle;\n    }\n\n    .dataframe tbody tr th {\n        vertical-align: top;\n    }\n\n    .dataframe thead th {\n        text-align: right;\n    }\n</style>\n<table border=\"1\" class=\"dataframe\">\n  <thead>\n    <tr style=\"text-align: right;\">\n      <th></th>\n      <th>GLOBAL_VAR_NAME</th>\n      <th>VAR_NAME</th>\n      <th>SAS_VAR_NAME</th>\n      <th>CAT_ID</th>\n      <th>CAT_DESC</th>\n      <th>Conditions</th>\n      <th>Ranking</th>\n      <th>Castelline</th>\n      <th>Morgan</th>\n      <th>Sylvie</th>\n      <th>Notes</th>\n      <th>Unnamed: 11</th>\n      <th>Unnamed: 12</th>\n    </tr>\n  </thead>\n  <tbody>\n    <tr>\n      <td>0</td>\n      <td>Number of facitilies</td>\n      <td>Facility identification</td>\n      <td>FACIL</td>\n      <td>1</td>\n      <td>Capacity</td>\n      <td>NaN</td>\n      <td>Top-Tier</td>\n      <td>Top-Tier</td>\n      <td>Mid-Tier</td>\n      <td>Top-Tier</td>\n      <td>Raw counts/per 10,000 population/counts by lan...</td>\n      <td>NaN</td>\n      <td>NaN</td>\n    </tr>\n    <tr>\n      <td>1</td>\n      <td>Number of generalists, full-time</td>\n      <td>MEDECINS GENERALISTES</td>\n      <td>Q400A_01</td>\n      <td>1</td>\n      <td>Capacity</td>\n      <td>NaN</td>\n      <td>Top-Tier</td>\n      <td>Top-Tier</td>\n      <td>Mid-Tier</td>\n      <td>Top-Tier</td>\n      <td>NaN</td>\n      <td>NaN</td>\n      <td>NaN</td>\n    </tr>\n    <tr>\n      <td>2</td>\n      <td>Number of specialists, full-time</td>\n      <td>MEDECINS SPECIALISTES</td>\n      <td>Q400A_02</td>\n      <td>1</td>\n      <td>Capacity</td>\n      <td>NaN</td>\n      <td>NaN</td>\n      <td>Mid-Tier</td>\n      <td>Low-Tier</td>\n      <td>Mid-Tier</td>\n      <td>NaN</td>\n      <td>NaN</td>\n      <td>NaN</td>\n    </tr>\n    <tr>\n      <td>3</td>\n      <td>Number of lab technicians, full-time</td>\n      <td>TECHNICIEN DE LABORATOIRE</td>\n      <td>Q400A_03</td>\n      <td>1</td>\n      <td>Capacity</td>\n      <td>NaN</td>\n      <td>Top-Tier</td>\n      <td>Mid-Tier</td>\n      <td>Low-Tier</td>\n      <td>Top-Tier</td>\n      <td>Existence of at least 1 lab technician; Count ...</td>\n      <td>Deeper Dive</td>\n      <td>NaN</td>\n    </tr>\n    <tr>\n      <td>4</td>\n      <td>Number of lab assistants, full-time</td>\n      <td>AUXILIAIRE DE LABORATOIRE (Y COMPRIS AIDE)</td>\n      <td>Q400A_04</td>\n      <td>1</td>\n      <td>Capacity</td>\n      <td>NaN</td>\n      <td>Top-Tier</td>\n      <td>Low-Tier</td>\n      <td>Low-Tier</td>\n      <td>Mid-Tier</td>\n      <td>NaN</td>\n      <td>NaN</td>\n      <td>NaN</td>\n    </tr>\n  </tbody>\n</table>\n</div>"
     },
     "metadata": {},
     "execution_count": 431
    }
   ],
   "source": [
    "df_var_name.head()"
   ]
  },
  {
   "cell_type": "code",
   "execution_count": 432,
   "metadata": {},
   "outputs": [],
   "source": [
    "# remove duplicates as possible\n",
    "columns_need = list(set(df_var_name.SAS_VAR_NAME))"
   ]
  },
  {
   "cell_type": "code",
   "execution_count": 433,
   "metadata": {},
   "outputs": [],
   "source": [
    "# selects colunms expected\n",
    "colunms_selected = [x for x in colums if x in columns_need]"
   ]
  },
  {
   "cell_type": "code",
   "execution_count": 434,
   "metadata": {},
   "outputs": [
    {
     "output_type": "execute_result",
     "data": {
      "text/plain": "62"
     },
     "metadata": {},
     "execution_count": 434
    }
   ],
   "source": [
    "# display the number of columns\n",
    "len(columns_need)"
   ]
  },
  {
   "cell_type": "code",
   "execution_count": 435,
   "metadata": {},
   "outputs": [],
   "source": [
    "col24 =list(df_var_name.SAS_VAR_NAME)"
   ]
  },
  {
   "cell_type": "code",
   "execution_count": 436,
   "metadata": {},
   "outputs": [
    {
     "output_type": "execute_result",
     "data": {
      "text/plain": "50"
     },
     "metadata": {},
     "execution_count": 436
    }
   ],
   "source": [
    "# display the number of columns selected\n",
    "len(colunms_selected)"
   ]
  },
  {
   "cell_type": "code",
   "execution_count": 437,
   "metadata": {},
   "outputs": [
    {
     "output_type": "execute_result",
     "data": {
      "text/plain": "{'Q1314B_01',\n 'Q1314B_02',\n 'Q1314B_03',\n 'Q1322B',\n 'Q1322D',\n 'Q1421B_03',\n 'Q1421B_05',\n 'Q710_03  ',\n 'Q831B_01',\n 'Q881B_02',\n 'T',\n 'V343C'}"
     },
     "metadata": {},
     "execution_count": 437
    }
   ],
   "source": [
    "# show the difference\n",
    "set(columns_need) -set(colunms_selected)"
   ]
  },
  {
   "cell_type": "code",
   "execution_count": 438,
   "metadata": {},
   "outputs": [],
   "source": [
    "# build the mapping rename columns \n",
    "map_dict = {'Q1314B_01': 'Q1314B_1',\n",
    "            'Q1314B_02': 'Q1314B_2',\n",
    "            'Q450 - Q453': 'Q453',\n",
    "            'Q710_03  ': 'Q710_03',\n",
    "            'Q881B_01': 'Q881B_1',\n",
    "            'Q881B_01':'Q881B_1',\n",
    "            'Q881B_02':'Q881B_2',\n",
    "            'Q831B_01': 'Q831B_1',\n",
    "            '400A_01': 'Q400A_01',\n",
    "             '400A_02': 'Q400A_02',\n",
    "             '400A_03':  'Q400A_03',\n",
    "             '400A_04': 'Q400A_04',\n",
    "             '400A_08':  'Q400A_08',\n",
    "             '400A_09':  'Q400A_09',\n",
    "             'Q1314B_01': 'Q1314B_1',\n",
    "            'Q1314B_02': 'Q1314B_2',\n",
    "             'Q1314B_03': 'Q1314B_3',\n",
    "            'Q881B_01': 'Q881B_1',\n",
    "            'Q881B_02': 'Q881B_2',\n",
    "            'Q1421B_03':'Q1421B_3',\n",
    "            'Q1421B_05': 'Q1421B_5',\n",
    "            'Q1314B_03': 'Q1314B_3',\n",
    "            \n",
    "                        \n",
    "           \n",
    "           }\n",
    "\n"
   ]
  },
  {
   "cell_type": "code",
   "execution_count": 439,
   "metadata": {},
   "outputs": [
    {
     "output_type": "execute_result",
     "data": {
      "text/plain": "                        GLOBAL_VAR_NAME  \\\n0                 Number of facitilies    \n1      Number of generalists, full-time   \n2      Number of specialists, full-time   \n3  Number of lab technicians, full-time   \n4   Number of lab assistants, full-time   \n\n                                     VAR_NAME SAS_VAR_NAME  CAT_ID  CAT_DESC  \\\n0                     Facility identification        FACIL       1  Capacity   \n1                       MEDECINS GENERALISTES     Q400A_01       1  Capacity   \n2                       MEDECINS SPECIALISTES     Q400A_02       1  Capacity   \n3                   TECHNICIEN DE LABORATOIRE     Q400A_03       1  Capacity   \n4  AUXILIAIRE DE LABORATOIRE (Y COMPRIS AIDE)     Q400A_04       1  Capacity   \n\n  Conditions   Ranking Castelline    Morgan    Sylvie  \\\n0        NaN  Top-Tier   Top-Tier  Mid-Tier  Top-Tier   \n1        NaN  Top-Tier   Top-Tier  Mid-Tier  Top-Tier   \n2        NaN       NaN   Mid-Tier  Low-Tier  Mid-Tier   \n3        NaN  Top-Tier   Mid-Tier  Low-Tier  Top-Tier   \n4        NaN  Top-Tier   Low-Tier  Low-Tier  Mid-Tier   \n\n                                               Notes  Unnamed: 11 Unnamed: 12  \n0  Raw counts/per 10,000 population/counts by lan...          NaN         NaN  \n1                                                NaN          NaN         NaN  \n2                                                NaN          NaN         NaN  \n3  Existence of at least 1 lab technician; Count ...  Deeper Dive         NaN  \n4                                                NaN          NaN         NaN  ",
      "text/html": "<div>\n<style scoped>\n    .dataframe tbody tr th:only-of-type {\n        vertical-align: middle;\n    }\n\n    .dataframe tbody tr th {\n        vertical-align: top;\n    }\n\n    .dataframe thead th {\n        text-align: right;\n    }\n</style>\n<table border=\"1\" class=\"dataframe\">\n  <thead>\n    <tr style=\"text-align: right;\">\n      <th></th>\n      <th>GLOBAL_VAR_NAME</th>\n      <th>VAR_NAME</th>\n      <th>SAS_VAR_NAME</th>\n      <th>CAT_ID</th>\n      <th>CAT_DESC</th>\n      <th>Conditions</th>\n      <th>Ranking</th>\n      <th>Castelline</th>\n      <th>Morgan</th>\n      <th>Sylvie</th>\n      <th>Notes</th>\n      <th>Unnamed: 11</th>\n      <th>Unnamed: 12</th>\n    </tr>\n  </thead>\n  <tbody>\n    <tr>\n      <td>0</td>\n      <td>Number of facitilies</td>\n      <td>Facility identification</td>\n      <td>FACIL</td>\n      <td>1</td>\n      <td>Capacity</td>\n      <td>NaN</td>\n      <td>Top-Tier</td>\n      <td>Top-Tier</td>\n      <td>Mid-Tier</td>\n      <td>Top-Tier</td>\n      <td>Raw counts/per 10,000 population/counts by lan...</td>\n      <td>NaN</td>\n      <td>NaN</td>\n    </tr>\n    <tr>\n      <td>1</td>\n      <td>Number of generalists, full-time</td>\n      <td>MEDECINS GENERALISTES</td>\n      <td>Q400A_01</td>\n      <td>1</td>\n      <td>Capacity</td>\n      <td>NaN</td>\n      <td>Top-Tier</td>\n      <td>Top-Tier</td>\n      <td>Mid-Tier</td>\n      <td>Top-Tier</td>\n      <td>NaN</td>\n      <td>NaN</td>\n      <td>NaN</td>\n    </tr>\n    <tr>\n      <td>2</td>\n      <td>Number of specialists, full-time</td>\n      <td>MEDECINS SPECIALISTES</td>\n      <td>Q400A_02</td>\n      <td>1</td>\n      <td>Capacity</td>\n      <td>NaN</td>\n      <td>NaN</td>\n      <td>Mid-Tier</td>\n      <td>Low-Tier</td>\n      <td>Mid-Tier</td>\n      <td>NaN</td>\n      <td>NaN</td>\n      <td>NaN</td>\n    </tr>\n    <tr>\n      <td>3</td>\n      <td>Number of lab technicians, full-time</td>\n      <td>TECHNICIEN DE LABORATOIRE</td>\n      <td>Q400A_03</td>\n      <td>1</td>\n      <td>Capacity</td>\n      <td>NaN</td>\n      <td>Top-Tier</td>\n      <td>Mid-Tier</td>\n      <td>Low-Tier</td>\n      <td>Top-Tier</td>\n      <td>Existence of at least 1 lab technician; Count ...</td>\n      <td>Deeper Dive</td>\n      <td>NaN</td>\n    </tr>\n    <tr>\n      <td>4</td>\n      <td>Number of lab assistants, full-time</td>\n      <td>AUXILIAIRE DE LABORATOIRE (Y COMPRIS AIDE)</td>\n      <td>Q400A_04</td>\n      <td>1</td>\n      <td>Capacity</td>\n      <td>NaN</td>\n      <td>Top-Tier</td>\n      <td>Low-Tier</td>\n      <td>Low-Tier</td>\n      <td>Mid-Tier</td>\n      <td>NaN</td>\n      <td>NaN</td>\n      <td>NaN</td>\n    </tr>\n  </tbody>\n</table>\n</div>"
     },
     "metadata": {},
     "execution_count": 439
    }
   ],
   "source": [
    "# renames columns\n",
    "df_var_name.SAS_VAR_NAME =df_var_name.SAS_VAR_NAME.replace(map_dict)\n",
    "df_var_name.head()"
   ]
  },
  {
   "cell_type": "code",
   "execution_count": 440,
   "metadata": {},
   "outputs": [],
   "source": [
    "filter = ['Q710_03  ',\n",
    "'Q710_08',\n",
    "'Q710_01',\n",
    "'Q710_02',\n",
    "'Q700B_06',\n",
    "'Q1210B_03',\n",
    "'Q1622B_09',\n",
    "'Q1622B_10',\n",
    "'Q2331B_06',\n",
    "'Q1622B_12',\n",
    "'Q700B_07',\n",
    "'Q1210B_04',\n",
    "'Q1314B_3',\n",
    "'Q1421B_3',\n",
    "'Q1421B_5',\n",
    "'Q1622B_12',\n",
    "'Q1622B_14',\n",
    "'Q2331B_07',\n",
    "'Q881B_01',\n",
    "'Q881B_02',\n",
    "'Q880',\n",
    "'Q700B_17',\n",
    "'Q700B_18',\n",
    "'Q700B_19',\n",
    "'Q450',\n",
    "'Q451',\n",
    "'Q453',\n",
    "'Q452',\n",
    "]\n",
    "\n",
    "\n"
   ]
  },
  {
   "cell_type": "code",
   "execution_count": 441,
   "metadata": {},
   "outputs": [
    {
     "output_type": "execute_result",
     "data": {
      "text/plain": "{'Q1322B', 'Q1322D', 'T', 'V343C'}"
     },
     "metadata": {},
     "execution_count": 441
    }
   ],
   "source": [
    "# display the differences\n",
    "columns_need = list(set(df_var_name.SAS_VAR_NAME))\n",
    "colunms_selected = [x for x in colums if x in columns_need]\n",
    "set(columns_need) -set(colunms_selected)"
   ]
  },
  {
   "cell_type": "code",
   "execution_count": 442,
   "metadata": {},
   "outputs": [],
   "source": [
    "# selects columns needed before computation\n",
    "spa_df_final = spa_df[['DEPARTN']+sorted(colunms_selected+['Q1322'])] "
   ]
  },
  {
   "cell_type": "code",
   "execution_count": 443,
   "metadata": {},
   "outputs": [
    {
     "output_type": "execute_result",
     "data": {
      "text/plain": "  DEPARTN  FACIL  Q110   Q112  Q1210B_03  Q1210B_04  Q1314B_1  Q1314B_2  \\\n0   Ouest      1   2.0    NaN        1.0        1.0       NaN       NaN   \n1   Ouest      2   1.0   25.0        NaN        NaN       NaN       NaN   \n2   Ouest      3   1.0  201.0        1.0        1.0       NaN       NaN   \n3   Ouest      4   2.0    7.0        2.0        2.0       NaN       NaN   \n4   Ouest      5   2.0    NaN        NaN        NaN       NaN       NaN   \n\n   Q1314B_3 Q1322  ...  Q710_07  Q710_08  Q710_10  Q710_11  Q710_12  Q830  \\\n0       NaN   NaN  ...      1.0      3.0      3.0      3.0      3.0   1.0   \n1       NaN   NaN  ...      3.0      3.0      3.0      3.0      3.0   2.0   \n2       NaN   NaN  ...      1.0      3.0      3.0      1.0      3.0   1.0   \n3       NaN   NaN  ...      3.0      3.0      3.0      3.0      3.0   1.0   \n4       1.0   NaN  ...      1.0      1.0      1.0      1.0      3.0   1.0   \n\n   Q831B_1  Q832  Q880  Q881B_2  \n0      1.0   2.0   2.0      NaN  \n1      NaN   2.0   2.0      NaN  \n2      NaN   1.0   1.0      1.0  \n3      1.0   1.0   2.0      NaN  \n4      NaN   2.0   2.0      NaN  \n\n[5 rows x 60 columns]",
      "text/html": "<div>\n<style scoped>\n    .dataframe tbody tr th:only-of-type {\n        vertical-align: middle;\n    }\n\n    .dataframe tbody tr th {\n        vertical-align: top;\n    }\n\n    .dataframe thead th {\n        text-align: right;\n    }\n</style>\n<table border=\"1\" class=\"dataframe\">\n  <thead>\n    <tr style=\"text-align: right;\">\n      <th></th>\n      <th>DEPARTN</th>\n      <th>FACIL</th>\n      <th>Q110</th>\n      <th>Q112</th>\n      <th>Q1210B_03</th>\n      <th>Q1210B_04</th>\n      <th>Q1314B_1</th>\n      <th>Q1314B_2</th>\n      <th>Q1314B_3</th>\n      <th>Q1322</th>\n      <th>...</th>\n      <th>Q710_07</th>\n      <th>Q710_08</th>\n      <th>Q710_10</th>\n      <th>Q710_11</th>\n      <th>Q710_12</th>\n      <th>Q830</th>\n      <th>Q831B_1</th>\n      <th>Q832</th>\n      <th>Q880</th>\n      <th>Q881B_2</th>\n    </tr>\n  </thead>\n  <tbody>\n    <tr>\n      <td>0</td>\n      <td>Ouest</td>\n      <td>1</td>\n      <td>2.0</td>\n      <td>NaN</td>\n      <td>1.0</td>\n      <td>1.0</td>\n      <td>NaN</td>\n      <td>NaN</td>\n      <td>NaN</td>\n      <td>NaN</td>\n      <td>...</td>\n      <td>1.0</td>\n      <td>3.0</td>\n      <td>3.0</td>\n      <td>3.0</td>\n      <td>3.0</td>\n      <td>1.0</td>\n      <td>1.0</td>\n      <td>2.0</td>\n      <td>2.0</td>\n      <td>NaN</td>\n    </tr>\n    <tr>\n      <td>1</td>\n      <td>Ouest</td>\n      <td>2</td>\n      <td>1.0</td>\n      <td>25.0</td>\n      <td>NaN</td>\n      <td>NaN</td>\n      <td>NaN</td>\n      <td>NaN</td>\n      <td>NaN</td>\n      <td>NaN</td>\n      <td>...</td>\n      <td>3.0</td>\n      <td>3.0</td>\n      <td>3.0</td>\n      <td>3.0</td>\n      <td>3.0</td>\n      <td>2.0</td>\n      <td>NaN</td>\n      <td>2.0</td>\n      <td>2.0</td>\n      <td>NaN</td>\n    </tr>\n    <tr>\n      <td>2</td>\n      <td>Ouest</td>\n      <td>3</td>\n      <td>1.0</td>\n      <td>201.0</td>\n      <td>1.0</td>\n      <td>1.0</td>\n      <td>NaN</td>\n      <td>NaN</td>\n      <td>NaN</td>\n      <td>NaN</td>\n      <td>...</td>\n      <td>1.0</td>\n      <td>3.0</td>\n      <td>3.0</td>\n      <td>1.0</td>\n      <td>3.0</td>\n      <td>1.0</td>\n      <td>NaN</td>\n      <td>1.0</td>\n      <td>1.0</td>\n      <td>1.0</td>\n    </tr>\n    <tr>\n      <td>3</td>\n      <td>Ouest</td>\n      <td>4</td>\n      <td>2.0</td>\n      <td>7.0</td>\n      <td>2.0</td>\n      <td>2.0</td>\n      <td>NaN</td>\n      <td>NaN</td>\n      <td>NaN</td>\n      <td>NaN</td>\n      <td>...</td>\n      <td>3.0</td>\n      <td>3.0</td>\n      <td>3.0</td>\n      <td>3.0</td>\n      <td>3.0</td>\n      <td>1.0</td>\n      <td>1.0</td>\n      <td>1.0</td>\n      <td>2.0</td>\n      <td>NaN</td>\n    </tr>\n    <tr>\n      <td>4</td>\n      <td>Ouest</td>\n      <td>5</td>\n      <td>2.0</td>\n      <td>NaN</td>\n      <td>NaN</td>\n      <td>NaN</td>\n      <td>NaN</td>\n      <td>NaN</td>\n      <td>1.0</td>\n      <td>NaN</td>\n      <td>...</td>\n      <td>1.0</td>\n      <td>1.0</td>\n      <td>1.0</td>\n      <td>1.0</td>\n      <td>3.0</td>\n      <td>1.0</td>\n      <td>NaN</td>\n      <td>2.0</td>\n      <td>2.0</td>\n      <td>NaN</td>\n    </tr>\n  </tbody>\n</table>\n<p>5 rows × 60 columns</p>\n</div>"
     },
     "metadata": {},
     "execution_count": 443
    }
   ],
   "source": [
    "# displays coloumns needed\n",
    "spa_df_final.head()"
   ]
  },
  {
   "cell_type": "code",
   "execution_count": 444,
   "metadata": {},
   "outputs": [],
   "source": [
    "# convert columns to index\n",
    "cols =  list(set(spa_df_final.columns))\n"
   ]
  },
  {
   "cell_type": "code",
   "execution_count": 445,
   "metadata": {},
   "outputs": [],
   "source": [
    "# displays the cardinality of each column to understand values\n",
    "my_dict =dict(var_name =[],sas_var_name =[] ,values_range=[])\n",
    "for col in sorted(cols):\n",
    "    val = df_var_name[df_var_name.SAS_VAR_NAME ==col]\n",
    "    if(len(val) >0):\n",
    "        my_dict['var_name'].append(val['VAR_NAME'].values[0])\n",
    "        my_dict['sas_var_name'].append(col)\n",
    "        my_dict['values_range'].append(sorted(spa_df_final[col].unique()))\n",
    "        \n",
    "        \n",
    "df_review = pd.DataFrame(my_dict)\n",
    "df_review['Aggfuc'] = np.nan"
   ]
  },
  {
   "cell_type": "code",
   "execution_count": 446,
   "metadata": {},
   "outputs": [
    {
     "output_type": "execute_result",
     "data": {
      "text/plain": "                                           var_name sas_var_name  \\\n0                           Facility identification        FACIL   \n1  Routine in-patient care or Overnight observation         Q110   \n2               Number of overnight/in-patient beds         Q112   \n3           Sick child exam other equip:Thermometer    Q1210B_03   \n4           Sick child exam other equip:Stethoscope    Q1210B_04   \n\n                                        values_range  Aggfuc  \n0  [1, 2, 3, 4, 5, 6, 8, 9, 12, 13, 15, 18, 19, 2...     NaN  \n1                                    [1.0, 2.0, nan]     NaN  \n2  [nan, 1.0, 2.0, 3.0, 4.0, 5.0, 6.0, 7.0, 8.0, ...     NaN  \n3                                    [1.0, nan, 2.0]     NaN  \n4                                    [1.0, nan, 2.0]     NaN  ",
      "text/html": "<div>\n<style scoped>\n    .dataframe tbody tr th:only-of-type {\n        vertical-align: middle;\n    }\n\n    .dataframe tbody tr th {\n        vertical-align: top;\n    }\n\n    .dataframe thead th {\n        text-align: right;\n    }\n</style>\n<table border=\"1\" class=\"dataframe\">\n  <thead>\n    <tr style=\"text-align: right;\">\n      <th></th>\n      <th>var_name</th>\n      <th>sas_var_name</th>\n      <th>values_range</th>\n      <th>Aggfuc</th>\n    </tr>\n  </thead>\n  <tbody>\n    <tr>\n      <td>0</td>\n      <td>Facility identification</td>\n      <td>FACIL</td>\n      <td>[1, 2, 3, 4, 5, 6, 8, 9, 12, 13, 15, 18, 19, 2...</td>\n      <td>NaN</td>\n    </tr>\n    <tr>\n      <td>1</td>\n      <td>Routine in-patient care or Overnight observation</td>\n      <td>Q110</td>\n      <td>[1.0, 2.0, nan]</td>\n      <td>NaN</td>\n    </tr>\n    <tr>\n      <td>2</td>\n      <td>Number of overnight/in-patient beds</td>\n      <td>Q112</td>\n      <td>[nan, 1.0, 2.0, 3.0, 4.0, 5.0, 6.0, 7.0, 8.0, ...</td>\n      <td>NaN</td>\n    </tr>\n    <tr>\n      <td>3</td>\n      <td>Sick child exam other equip:Thermometer</td>\n      <td>Q1210B_03</td>\n      <td>[1.0, nan, 2.0]</td>\n      <td>NaN</td>\n    </tr>\n    <tr>\n      <td>4</td>\n      <td>Sick child exam other equip:Stethoscope</td>\n      <td>Q1210B_04</td>\n      <td>[1.0, nan, 2.0]</td>\n      <td>NaN</td>\n    </tr>\n  </tbody>\n</table>\n</div>"
     },
     "metadata": {},
     "execution_count": 446
    }
   ],
   "source": [
    "# shows top 5 rows\n",
    "df_review.head()"
   ]
  },
  {
   "cell_type": "code",
   "execution_count": 447,
   "metadata": {},
   "outputs": [],
   "source": [
    "# saves the datset for review\n",
    "df_review.to_csv('review.csv')\n"
   ]
  },
  {
   "cell_type": "code",
   "execution_count": 448,
   "metadata": {},
   "outputs": [
    {
     "output_type": "execute_result",
     "data": {
      "text/plain": "{'Q1210B_03',\n 'Q1210B_04',\n 'Q1421B_3',\n 'Q1421B_5',\n 'Q1622B_09',\n 'Q1622B_10',\n 'Q1622B_12',\n 'Q1622B_14',\n 'Q2331B_06',\n 'Q2331B_07',\n 'Q451',\n 'Q700B_06',\n 'Q700B_07',\n 'Q700B_17',\n 'Q700B_19',\n 'Q880'}"
     },
     "metadata": {},
     "execution_count": 448
    }
   ],
   "source": [
    "# selectd yes/no columns\n",
    "yes_no_col = ['Q110',\n",
    "'Q1210B_03',\n",
    "'Q1210B_04',\n",
    "'Q1421B_3',\n",
    "'Q1421B_5',\n",
    "'Q1622B_09',\n",
    "'Q1622B_10',\n",
    "'Q1622B_12',\n",
    "'Q1622B_14',\n",
    "'Q2331B_06',\n",
    "'Q2331B_07',\n",
    "'Q310',\n",
    "'Q313',\n",
    "'Q316',\n",
    "'Q340',\n",
    "'Q451',\n",
    "'Q501B_04',\n",
    "'Q503',\n",
    "'Q607',\n",
    "'Q700B_06',\n",
    "'Q700B_07',\n",
    "'Q700B_17',\n",
    "'Q700B_19',\n",
    "'Q830',\n",
    "'Q832',\n",
    "'Q880',\n",
    "\n",
    "\n",
    "]\n",
    "yes_no_col1 = [col for col in yes_no_col if col not in filter ]\n",
    "set(yes_no_col)- set(yes_no_col1)\n"
   ]
  },
  {
   "cell_type": "code",
   "execution_count": 449,
   "metadata": {},
   "outputs": [
    {
     "output_type": "execute_result",
     "data": {
      "text/plain": "{'Q1622B_09', 'Q1622B_12', 'Q453'}"
     },
     "metadata": {},
     "execution_count": 449
    }
   ],
   "source": [
    "# selects numerical columns\n",
    "col_num = ['Q110','Q112','Q1314B_1','Q1314B_2',\n",
    "           'Q1622B_09','Q1622B_12','Q310','Q313','Q316',\n",
    "           'Q331','Q340','Q400AT','Q400A_01','Q400A_02',\n",
    "           'Q400A_03','Q400A_08','Q400A_09','Q400A_12','Q400A_04','Q453']\n",
    "col_num1=[col for col in col_num if col not in filter ]\n",
    "set(col_num) - set(col_num1)"
   ]
  },
  {
   "cell_type": "code",
   "execution_count": 450,
   "metadata": {},
   "outputs": [
    {
     "output_type": "execute_result",
     "data": {
      "text/plain": "{'Q1314B_3', 'Q450', 'Q452', 'Q700B_18', 'Q710_01', 'Q710_02', 'Q710_08'}"
     },
     "metadata": {},
     "execution_count": 450
    }
   ],
   "source": [
    "# selects 1/2/3 answers columns\n",
    "col_1_2_3 =['Q1314B_1',\n",
    "'Q1314B_2',\n",
    "'Q1314B_3',\n",
    "'Q331',\n",
    "'Q450',\n",
    "'Q452',\n",
    "'Q710_01',\n",
    "'Q710_02',\n",
    "'Q710_03',\n",
    "'Q710_06',\n",
    "'Q710_07',\n",
    "'Q710_08',\n",
    "'Q710_10',\n",
    "'Q710_11',\n",
    "'Q710_12',\n",
    "'Q831B_1',\n",
    "'Q881B_1',\n",
    "'Q881B_2',\n",
    "'Q700B_18'\n",
    "]\n",
    "\n",
    "col_1_2_3_=[col for col in col_1_2_3 if col not in filter ]\n",
    "set(col_1_2_3) - set(col_1_2_3_)"
   ]
  },
  {
   "cell_type": "code",
   "execution_count": 451,
   "metadata": {},
   "outputs": [],
   "source": [
    "# save non patterns colunms\n",
    "auter_colunms = set(cols) -set(col_1_2_3_ + yes_no_col1 +col_num1)"
   ]
  },
  {
   "cell_type": "code",
   "execution_count": 452,
   "metadata": {},
   "outputs": [
    {
     "output_type": "execute_result",
     "data": {
      "text/plain": "{'DEPARTN',\n 'FACIL',\n 'Q1210B_03',\n 'Q1210B_04',\n 'Q1314B_3',\n 'Q1322',\n 'Q1421B_3',\n 'Q1421B_5',\n 'Q1622B_09',\n 'Q1622B_10',\n 'Q1622B_12',\n 'Q1622B_14',\n 'Q2331B_06',\n 'Q2331B_07',\n 'Q450',\n 'Q451',\n 'Q452',\n 'Q453',\n 'Q600',\n 'Q601',\n 'Q620',\n 'Q700B_06',\n 'Q700B_07',\n 'Q700B_17',\n 'Q700B_18',\n 'Q700B_19',\n 'Q710_01',\n 'Q710_02',\n 'Q710_08',\n 'Q880'}"
     },
     "metadata": {},
     "execution_count": 452
    }
   ],
   "source": [
    "auter_colunms "
   ]
  },
  {
   "cell_type": "code",
   "execution_count": 453,
   "metadata": {},
   "outputs": [],
   "source": [
    "# create the dict\n",
    "map_columns = dict(sas_column_name =[],values=[])"
   ]
  },
  {
   "cell_type": "code",
   "execution_count": 454,
   "metadata": {},
   "outputs": [],
   "source": [
    "# computes aggreation "
   ]
  },
  {
   "cell_type": "code",
   "execution_count": 455,
   "metadata": {},
   "outputs": [],
   "source": [
    "map_dict = dict(SAS_VAR_NAME =[],departn = [],values =[])\n",
    "for col in yes_no_col1:\n",
    "    val = spa_df_final[spa_df_final[col] ==1.0][[col,'DEPARTN','FACIL']]\n",
    "    val[col]= col\n",
    "    val.rename(columns = {col: 'SAS_VAR_NAME'},inplace =True)\n",
    "    val=val.groupby(['SAS_VAR_NAME','DEPARTN']).size().to_frame().reset_index().rename(columns={0:'count'})\n",
    "    map_dict['SAS_VAR_NAME'] += list(val['SAS_VAR_NAME'])\n",
    "    map_dict['departn'] += list(val['DEPARTN'])\n",
    "    map_dict['values'] += list(val['count'])"
   ]
  },
  {
   "cell_type": "code",
   "execution_count": 456,
   "metadata": {},
   "outputs": [],
   "source": [
    "for col in col_num1:\n",
    "    val = spa_df_final[[col,'DEPARTN']]\n",
    "    val['SAS_VAR_NAME']= col\n",
    "    val.rename(columns = {col: 'num'},inplace =True)\n",
    "    val=val.groupby(['SAS_VAR_NAME','DEPARTN'])['num'].sum().to_frame().reset_index().rename(columns={0:'count'})\n",
    "    map_dict['SAS_VAR_NAME'] += list(val['SAS_VAR_NAME'])\n",
    "    map_dict['departn'] += list(val['DEPARTN'])\n",
    "    map_dict['values'] += list(val['num'])"
   ]
  },
  {
   "cell_type": "code",
   "execution_count": 457,
   "metadata": {},
   "outputs": [
    {
     "output_type": "error",
     "ename": "KeyError",
     "evalue": "'Q881B_1'",
     "traceback": [
      "\u001b[1;31m---------------------------------------------------------------------------\u001b[0m",
      "\u001b[1;31mKeyError\u001b[0m                                  Traceback (most recent call last)",
      "\u001b[1;32m~\\anaconda3\\lib\\site-packages\\pandas\\core\\indexes\\base.py\u001b[0m in \u001b[0;36mget_loc\u001b[1;34m(self, key, method, tolerance)\u001b[0m\n\u001b[0;32m   2896\u001b[0m             \u001b[1;32mtry\u001b[0m\u001b[1;33m:\u001b[0m\u001b[1;33m\u001b[0m\u001b[1;33m\u001b[0m\u001b[0m\n\u001b[1;32m-> 2897\u001b[1;33m                 \u001b[1;32mreturn\u001b[0m \u001b[0mself\u001b[0m\u001b[1;33m.\u001b[0m\u001b[0m_engine\u001b[0m\u001b[1;33m.\u001b[0m\u001b[0mget_loc\u001b[0m\u001b[1;33m(\u001b[0m\u001b[0mkey\u001b[0m\u001b[1;33m)\u001b[0m\u001b[1;33m\u001b[0m\u001b[1;33m\u001b[0m\u001b[0m\n\u001b[0m\u001b[0;32m   2898\u001b[0m             \u001b[1;32mexcept\u001b[0m \u001b[0mKeyError\u001b[0m\u001b[1;33m:\u001b[0m\u001b[1;33m\u001b[0m\u001b[1;33m\u001b[0m\u001b[0m\n",
      "\u001b[1;32mpandas\\_libs\\index.pyx\u001b[0m in \u001b[0;36mpandas._libs.index.IndexEngine.get_loc\u001b[1;34m()\u001b[0m\n",
      "\u001b[1;32mpandas\\_libs\\index.pyx\u001b[0m in \u001b[0;36mpandas._libs.index.IndexEngine.get_loc\u001b[1;34m()\u001b[0m\n",
      "\u001b[1;32mpandas\\_libs\\hashtable_class_helper.pxi\u001b[0m in \u001b[0;36mpandas._libs.hashtable.PyObjectHashTable.get_item\u001b[1;34m()\u001b[0m\n",
      "\u001b[1;32mpandas\\_libs\\hashtable_class_helper.pxi\u001b[0m in \u001b[0;36mpandas._libs.hashtable.PyObjectHashTable.get_item\u001b[1;34m()\u001b[0m\n",
      "\u001b[1;31mKeyError\u001b[0m: 'Q881B_1'",
      "\nDuring handling of the above exception, another exception occurred:\n",
      "\u001b[1;31mKeyError\u001b[0m                                  Traceback (most recent call last)",
      "\u001b[1;32m<ipython-input-457-c1c6d31d88d6>\u001b[0m in \u001b[0;36m<module>\u001b[1;34m\u001b[0m\n\u001b[0;32m      1\u001b[0m \u001b[1;32mfor\u001b[0m \u001b[0mcol\u001b[0m \u001b[1;32min\u001b[0m \u001b[0mcol_1_2_3_\u001b[0m\u001b[1;33m:\u001b[0m\u001b[1;33m\u001b[0m\u001b[1;33m\u001b[0m\u001b[0m\n\u001b[1;32m----> 2\u001b[1;33m     \u001b[0mval\u001b[0m \u001b[1;33m=\u001b[0m \u001b[0mspa_df_final\u001b[0m\u001b[1;33m[\u001b[0m\u001b[0mspa_df_final\u001b[0m\u001b[1;33m[\u001b[0m\u001b[0mcol\u001b[0m\u001b[1;33m]\u001b[0m\u001b[1;33m.\u001b[0m\u001b[0misin\u001b[0m\u001b[1;33m(\u001b[0m\u001b[1;33m[\u001b[0m\u001b[1;36m1.0\u001b[0m\u001b[1;33m]\u001b[0m\u001b[1;33m)\u001b[0m\u001b[1;33m]\u001b[0m\u001b[1;33m[\u001b[0m\u001b[1;33m[\u001b[0m\u001b[0mcol\u001b[0m\u001b[1;33m,\u001b[0m\u001b[1;34m'DEPARTN'\u001b[0m\u001b[1;33m,\u001b[0m\u001b[1;34m'FACIL'\u001b[0m\u001b[1;33m]\u001b[0m\u001b[1;33m]\u001b[0m\u001b[1;33m\u001b[0m\u001b[1;33m\u001b[0m\u001b[0m\n\u001b[0m\u001b[0;32m      3\u001b[0m     \u001b[0mval\u001b[0m\u001b[1;33m[\u001b[0m\u001b[0mcol\u001b[0m\u001b[1;33m]\u001b[0m\u001b[1;33m=\u001b[0m \u001b[0mcol\u001b[0m\u001b[1;33m\u001b[0m\u001b[1;33m\u001b[0m\u001b[0m\n\u001b[0;32m      4\u001b[0m     \u001b[0mval\u001b[0m\u001b[1;33m.\u001b[0m\u001b[0mrename\u001b[0m\u001b[1;33m(\u001b[0m\u001b[0mcolumns\u001b[0m \u001b[1;33m=\u001b[0m \u001b[1;33m{\u001b[0m\u001b[0mcol\u001b[0m\u001b[1;33m:\u001b[0m \u001b[1;34m'SAS_VAR_NAME'\u001b[0m\u001b[1;33m}\u001b[0m\u001b[1;33m,\u001b[0m\u001b[0minplace\u001b[0m \u001b[1;33m=\u001b[0m\u001b[1;32mTrue\u001b[0m\u001b[1;33m)\u001b[0m\u001b[1;33m\u001b[0m\u001b[1;33m\u001b[0m\u001b[0m\n\u001b[0;32m      5\u001b[0m     \u001b[0mval\u001b[0m\u001b[1;33m=\u001b[0m\u001b[0mval\u001b[0m\u001b[1;33m.\u001b[0m\u001b[0mgroupby\u001b[0m\u001b[1;33m(\u001b[0m\u001b[1;33m[\u001b[0m\u001b[1;34m'SAS_VAR_NAME'\u001b[0m\u001b[1;33m,\u001b[0m\u001b[1;34m'DEPARTN'\u001b[0m\u001b[1;33m]\u001b[0m\u001b[1;33m)\u001b[0m\u001b[1;33m.\u001b[0m\u001b[0msize\u001b[0m\u001b[1;33m(\u001b[0m\u001b[1;33m)\u001b[0m\u001b[1;33m.\u001b[0m\u001b[0mto_frame\u001b[0m\u001b[1;33m(\u001b[0m\u001b[1;33m)\u001b[0m\u001b[1;33m.\u001b[0m\u001b[0mreset_index\u001b[0m\u001b[1;33m(\u001b[0m\u001b[1;33m)\u001b[0m\u001b[1;33m.\u001b[0m\u001b[0mrename\u001b[0m\u001b[1;33m(\u001b[0m\u001b[0mcolumns\u001b[0m\u001b[1;33m=\u001b[0m\u001b[1;33m{\u001b[0m\u001b[1;36m0\u001b[0m\u001b[1;33m:\u001b[0m\u001b[1;34m'count'\u001b[0m\u001b[1;33m}\u001b[0m\u001b[1;33m)\u001b[0m\u001b[1;33m\u001b[0m\u001b[1;33m\u001b[0m\u001b[0m\n",
      "\u001b[1;32m~\\anaconda3\\lib\\site-packages\\pandas\\core\\frame.py\u001b[0m in \u001b[0;36m__getitem__\u001b[1;34m(self, key)\u001b[0m\n\u001b[0;32m   2978\u001b[0m             \u001b[1;32mif\u001b[0m \u001b[0mself\u001b[0m\u001b[1;33m.\u001b[0m\u001b[0mcolumns\u001b[0m\u001b[1;33m.\u001b[0m\u001b[0mnlevels\u001b[0m \u001b[1;33m>\u001b[0m \u001b[1;36m1\u001b[0m\u001b[1;33m:\u001b[0m\u001b[1;33m\u001b[0m\u001b[1;33m\u001b[0m\u001b[0m\n\u001b[0;32m   2979\u001b[0m                 \u001b[1;32mreturn\u001b[0m \u001b[0mself\u001b[0m\u001b[1;33m.\u001b[0m\u001b[0m_getitem_multilevel\u001b[0m\u001b[1;33m(\u001b[0m\u001b[0mkey\u001b[0m\u001b[1;33m)\u001b[0m\u001b[1;33m\u001b[0m\u001b[1;33m\u001b[0m\u001b[0m\n\u001b[1;32m-> 2980\u001b[1;33m             \u001b[0mindexer\u001b[0m \u001b[1;33m=\u001b[0m \u001b[0mself\u001b[0m\u001b[1;33m.\u001b[0m\u001b[0mcolumns\u001b[0m\u001b[1;33m.\u001b[0m\u001b[0mget_loc\u001b[0m\u001b[1;33m(\u001b[0m\u001b[0mkey\u001b[0m\u001b[1;33m)\u001b[0m\u001b[1;33m\u001b[0m\u001b[1;33m\u001b[0m\u001b[0m\n\u001b[0m\u001b[0;32m   2981\u001b[0m             \u001b[1;32mif\u001b[0m \u001b[0mis_integer\u001b[0m\u001b[1;33m(\u001b[0m\u001b[0mindexer\u001b[0m\u001b[1;33m)\u001b[0m\u001b[1;33m:\u001b[0m\u001b[1;33m\u001b[0m\u001b[1;33m\u001b[0m\u001b[0m\n\u001b[0;32m   2982\u001b[0m                 \u001b[0mindexer\u001b[0m \u001b[1;33m=\u001b[0m \u001b[1;33m[\u001b[0m\u001b[0mindexer\u001b[0m\u001b[1;33m]\u001b[0m\u001b[1;33m\u001b[0m\u001b[1;33m\u001b[0m\u001b[0m\n",
      "\u001b[1;32m~\\anaconda3\\lib\\site-packages\\pandas\\core\\indexes\\base.py\u001b[0m in \u001b[0;36mget_loc\u001b[1;34m(self, key, method, tolerance)\u001b[0m\n\u001b[0;32m   2897\u001b[0m                 \u001b[1;32mreturn\u001b[0m \u001b[0mself\u001b[0m\u001b[1;33m.\u001b[0m\u001b[0m_engine\u001b[0m\u001b[1;33m.\u001b[0m\u001b[0mget_loc\u001b[0m\u001b[1;33m(\u001b[0m\u001b[0mkey\u001b[0m\u001b[1;33m)\u001b[0m\u001b[1;33m\u001b[0m\u001b[1;33m\u001b[0m\u001b[0m\n\u001b[0;32m   2898\u001b[0m             \u001b[1;32mexcept\u001b[0m \u001b[0mKeyError\u001b[0m\u001b[1;33m:\u001b[0m\u001b[1;33m\u001b[0m\u001b[1;33m\u001b[0m\u001b[0m\n\u001b[1;32m-> 2899\u001b[1;33m                 \u001b[1;32mreturn\u001b[0m \u001b[0mself\u001b[0m\u001b[1;33m.\u001b[0m\u001b[0m_engine\u001b[0m\u001b[1;33m.\u001b[0m\u001b[0mget_loc\u001b[0m\u001b[1;33m(\u001b[0m\u001b[0mself\u001b[0m\u001b[1;33m.\u001b[0m\u001b[0m_maybe_cast_indexer\u001b[0m\u001b[1;33m(\u001b[0m\u001b[0mkey\u001b[0m\u001b[1;33m)\u001b[0m\u001b[1;33m)\u001b[0m\u001b[1;33m\u001b[0m\u001b[1;33m\u001b[0m\u001b[0m\n\u001b[0m\u001b[0;32m   2900\u001b[0m         \u001b[0mindexer\u001b[0m \u001b[1;33m=\u001b[0m \u001b[0mself\u001b[0m\u001b[1;33m.\u001b[0m\u001b[0mget_indexer\u001b[0m\u001b[1;33m(\u001b[0m\u001b[1;33m[\u001b[0m\u001b[0mkey\u001b[0m\u001b[1;33m]\u001b[0m\u001b[1;33m,\u001b[0m \u001b[0mmethod\u001b[0m\u001b[1;33m=\u001b[0m\u001b[0mmethod\u001b[0m\u001b[1;33m,\u001b[0m \u001b[0mtolerance\u001b[0m\u001b[1;33m=\u001b[0m\u001b[0mtolerance\u001b[0m\u001b[1;33m)\u001b[0m\u001b[1;33m\u001b[0m\u001b[1;33m\u001b[0m\u001b[0m\n\u001b[0;32m   2901\u001b[0m         \u001b[1;32mif\u001b[0m \u001b[0mindexer\u001b[0m\u001b[1;33m.\u001b[0m\u001b[0mndim\u001b[0m \u001b[1;33m>\u001b[0m \u001b[1;36m1\u001b[0m \u001b[1;32mor\u001b[0m \u001b[0mindexer\u001b[0m\u001b[1;33m.\u001b[0m\u001b[0msize\u001b[0m \u001b[1;33m>\u001b[0m \u001b[1;36m1\u001b[0m\u001b[1;33m:\u001b[0m\u001b[1;33m\u001b[0m\u001b[1;33m\u001b[0m\u001b[0m\n",
      "\u001b[1;32mpandas\\_libs\\index.pyx\u001b[0m in \u001b[0;36mpandas._libs.index.IndexEngine.get_loc\u001b[1;34m()\u001b[0m\n",
      "\u001b[1;32mpandas\\_libs\\index.pyx\u001b[0m in \u001b[0;36mpandas._libs.index.IndexEngine.get_loc\u001b[1;34m()\u001b[0m\n",
      "\u001b[1;32mpandas\\_libs\\hashtable_class_helper.pxi\u001b[0m in \u001b[0;36mpandas._libs.hashtable.PyObjectHashTable.get_item\u001b[1;34m()\u001b[0m\n",
      "\u001b[1;32mpandas\\_libs\\hashtable_class_helper.pxi\u001b[0m in \u001b[0;36mpandas._libs.hashtable.PyObjectHashTable.get_item\u001b[1;34m()\u001b[0m\n",
      "\u001b[1;31mKeyError\u001b[0m: 'Q881B_1'"
     ]
    }
   ],
   "source": [
    "for col in col_1_2_3_:\n",
    "    val = spa_df_final[spa_df_final[col].isin([1.0])][[col,'DEPARTN','FACIL']]\n",
    "    val[col]= col\n",
    "    val.rename(columns = {col: 'SAS_VAR_NAME'},inplace =True)\n",
    "    val=val.groupby(['SAS_VAR_NAME','DEPARTN']).size().to_frame().reset_index().rename(columns={0:'count'})\n",
    "    map_dict['SAS_VAR_NAME'] += list(val['SAS_VAR_NAME'])\n",
    "    map_dict['departn'] += list(val['DEPARTN'])\n",
    "    map_dict['values'] += list(val['count'])"
   ]
  },
  {
   "cell_type": "code",
   "execution_count": null,
   "metadata": {},
   "outputs": [],
   "source": [
    "col ='FACIL'\n",
    "val = spa_df_final[['DEPARTN','FACIL']]\n",
    "val['SAS_VAR_NAME']= col\n",
    "val=val.groupby(['SAS_VAR_NAME','DEPARTN']).size().to_frame().reset_index().rename(columns={0:'count'})\n",
    "map_dict['SAS_VAR_NAME'] += list(val['SAS_VAR_NAME'])\n",
    "map_dict['departn'] += list(val['DEPARTN'])\n",
    "map_dict['values'] += list(val['count'])"
   ]
  },
  {
   "cell_type": "code",
   "execution_count": null,
   "metadata": {},
   "outputs": [],
   "source": [
    "\n",
    "\n",
    "col ='Q600'\n",
    "val = spa_df_final[spa_df_final[col].isin([2.0,3.0])][[col,'DEPARTN','FACIL']]\n",
    "val[col]= col\n",
    "val.rename(columns = {col: 'SAS_VAR_NAME'},inplace =True)\n",
    "val=val.groupby(['SAS_VAR_NAME','DEPARTN']).size().to_frame().reset_index().rename(columns={0:'count'})\n",
    "map_dict['SAS_VAR_NAME'] += list(val['SAS_VAR_NAME'])\n",
    "map_dict['departn'] += list(val['DEPARTN'])\n",
    "map_dict['values'] += list(val['count'])"
   ]
  },
  {
   "cell_type": "code",
   "execution_count": null,
   "metadata": {},
   "outputs": [],
   "source": [
    "col ='Q601'\n",
    "val = spa_df_final[spa_df_final[col].isin([2.0,3.0])][[col,'DEPARTN','FACIL']]\n",
    "val[col]= col\n",
    "val.rename(columns = {col: 'SAS_VAR_NAME'},inplace =True)\n",
    "val=val.groupby(['SAS_VAR_NAME','DEPARTN']).size().to_frame().reset_index().rename(columns={0:'count'})\n",
    "map_dict['SAS_VAR_NAME'] += list(val['SAS_VAR_NAME'])\n",
    "map_dict['departn'] += list(val['DEPARTN'])\n",
    "map_dict['values'] += list(val['count'])"
   ]
  },
  {
   "cell_type": "code",
   "execution_count": null,
   "metadata": {},
   "outputs": [],
   "source": [
    "col = 'Q620'\n",
    "val = spa_df_final[spa_df_final[col] !=61.0][[col,'DEPARTN','FACIL']]\n",
    "val[col]= col\n",
    "val.rename(columns = {col: 'SAS_VAR_NAME'},inplace =True)\n",
    "val=val.groupby(['SAS_VAR_NAME','DEPARTN']).size().to_frame().reset_index().rename(columns={0:'count'})\n",
    "map_dict['SAS_VAR_NAME'] += list(val['SAS_VAR_NAME'])\n",
    "map_dict['departn'] += list(val['DEPARTN'])\n",
    "map_dict['values'] += list(val['count'])"
   ]
  },
  {
   "cell_type": "code",
   "execution_count": null,
   "metadata": {},
   "outputs": [],
   "source": [
    "col = 'Q1322'\n",
    "val = spa_df_final[spa_df_final[col] =='D'][['DEPARTN','FACIL']]\n",
    "col += 'D'\n",
    "val[col]= col\n",
    "val.rename(columns = {col: 'SAS_VAR_NAME'},inplace =True)\n",
    "val=val.groupby(['SAS_VAR_NAME','DEPARTN']).size().to_frame().reset_index().rename(columns={0:'count'})\n",
    "map_dict['SAS_VAR_NAME'] += list(val['SAS_VAR_NAME'])\n",
    "map_dict['departn'] += list(val['DEPARTN'])\n",
    "map_dict['values'] += list(val['count'])\n",
    "val"
   ]
  },
  {
   "cell_type": "code",
   "execution_count": null,
   "metadata": {},
   "outputs": [],
   "source": [
    "col = 'Q1322'\n",
    "val = spa_df_final[spa_df_final[col] =='B'][['DEPARTN','FACIL']]\n",
    "col += 'B'\n",
    "val[col]= col\n",
    "val.rename(columns = {col: 'SAS_VAR_NAME'},inplace =True)\n",
    "val=val.groupby(['SAS_VAR_NAME','DEPARTN']).size().to_frame().reset_index().rename(columns={0:'count'})\n",
    "map_dict['SAS_VAR_NAME'] += list(val['SAS_VAR_NAME'])\n",
    "map_dict['departn'] += list(val['DEPARTN'])\n",
    "map_dict['values'] += list(val['count'])\n",
    "val"
   ]
  },
  {
   "cell_type": "code",
   "execution_count": 464,
   "metadata": {},
   "outputs": [
    {
     "output_type": "execute_result",
     "data": {
      "text/plain": "  SAS_VAR_NAME     DEPARTN  count\n0     Q700B_17  Artibonite     13\n1     Q700B_17      Centre     11\n2     Q700B_17  Grand'Anse      6\n3     Q700B_17      Nippes      6\n4     Q700B_17        Nord     20\n5     Q700B_17    Nord-Est     10\n6     Q700B_17  Nord-Ouest     10\n7     Q700B_17       Ouest     80\n8     Q700B_17         Sud     18\n9     Q700B_17     Sud-Est     14",
      "text/html": "<div>\n<style scoped>\n    .dataframe tbody tr th:only-of-type {\n        vertical-align: middle;\n    }\n\n    .dataframe tbody tr th {\n        vertical-align: top;\n    }\n\n    .dataframe thead th {\n        text-align: right;\n    }\n</style>\n<table border=\"1\" class=\"dataframe\">\n  <thead>\n    <tr style=\"text-align: right;\">\n      <th></th>\n      <th>SAS_VAR_NAME</th>\n      <th>DEPARTN</th>\n      <th>count</th>\n    </tr>\n  </thead>\n  <tbody>\n    <tr>\n      <td>0</td>\n      <td>Q700B_17</td>\n      <td>Artibonite</td>\n      <td>13</td>\n    </tr>\n    <tr>\n      <td>1</td>\n      <td>Q700B_17</td>\n      <td>Centre</td>\n      <td>11</td>\n    </tr>\n    <tr>\n      <td>2</td>\n      <td>Q700B_17</td>\n      <td>Grand'Anse</td>\n      <td>6</td>\n    </tr>\n    <tr>\n      <td>3</td>\n      <td>Q700B_17</td>\n      <td>Nippes</td>\n      <td>6</td>\n    </tr>\n    <tr>\n      <td>4</td>\n      <td>Q700B_17</td>\n      <td>Nord</td>\n      <td>20</td>\n    </tr>\n    <tr>\n      <td>5</td>\n      <td>Q700B_17</td>\n      <td>Nord-Est</td>\n      <td>10</td>\n    </tr>\n    <tr>\n      <td>6</td>\n      <td>Q700B_17</td>\n      <td>Nord-Ouest</td>\n      <td>10</td>\n    </tr>\n    <tr>\n      <td>7</td>\n      <td>Q700B_17</td>\n      <td>Ouest</td>\n      <td>80</td>\n    </tr>\n    <tr>\n      <td>8</td>\n      <td>Q700B_17</td>\n      <td>Sud</td>\n      <td>18</td>\n    </tr>\n    <tr>\n      <td>9</td>\n      <td>Q700B_17</td>\n      <td>Sud-Est</td>\n      <td>14</td>\n    </tr>\n  </tbody>\n</table>\n</div>"
     },
     "metadata": {},
     "execution_count": 464
    }
   ],
   "source": [
    "## Oxygen-filled oxygen cylinders\n",
    "#Q700B_17\n",
    "#Q700B_18\n",
    "#Q700B_19\n",
    "col = 'Q700B_17'\n",
    "val = spa_df_final[(spa_df_final[col] ==1.0)|(spa_df_final['Q700B_18'] ==1.0)|(spa_df_final['Q700B_19'] ==1.0)][['DEPARTN','FACIL']]\n",
    "val[col]= col\n",
    "val.rename(columns = {col: 'SAS_VAR_NAME'},inplace =True)\n",
    "val=val.groupby(['SAS_VAR_NAME','DEPARTN']).size().to_frame().reset_index().rename(columns={0:'count'})\n",
    "map_dict['SAS_VAR_NAME'] += list(val['SAS_VAR_NAME'])\n",
    "map_dict['departn'] += list(val['DEPARTN'])\n",
    "map_dict['values'] += list(val['count'])\n",
    "val\n"
   ]
  },
  {
   "cell_type": "code",
   "execution_count": 465,
   "metadata": {},
   "outputs": [
    {
     "output_type": "execute_result",
     "data": {
      "text/plain": "  SAS_VAR_NAME     DEPARTN  count\n0         Q450  Artibonite     30\n1         Q450      Centre     16\n2         Q450  Grand'Anse     17\n3         Q450      Nippes      9\n4         Q450        Nord     27\n5         Q450    Nord-Est     17\n6         Q450  Nord-Ouest     21\n7         Q450       Ouest     93\n8         Q450         Sud     22\n9         Q450     Sud-Est     15",
      "text/html": "<div>\n<style scoped>\n    .dataframe tbody tr th:only-of-type {\n        vertical-align: middle;\n    }\n\n    .dataframe tbody tr th {\n        vertical-align: top;\n    }\n\n    .dataframe thead th {\n        text-align: right;\n    }\n</style>\n<table border=\"1\" class=\"dataframe\">\n  <thead>\n    <tr style=\"text-align: right;\">\n      <th></th>\n      <th>SAS_VAR_NAME</th>\n      <th>DEPARTN</th>\n      <th>count</th>\n    </tr>\n  </thead>\n  <tbody>\n    <tr>\n      <td>0</td>\n      <td>Q450</td>\n      <td>Artibonite</td>\n      <td>30</td>\n    </tr>\n    <tr>\n      <td>1</td>\n      <td>Q450</td>\n      <td>Centre</td>\n      <td>16</td>\n    </tr>\n    <tr>\n      <td>2</td>\n      <td>Q450</td>\n      <td>Grand'Anse</td>\n      <td>17</td>\n    </tr>\n    <tr>\n      <td>3</td>\n      <td>Q450</td>\n      <td>Nippes</td>\n      <td>9</td>\n    </tr>\n    <tr>\n      <td>4</td>\n      <td>Q450</td>\n      <td>Nord</td>\n      <td>27</td>\n    </tr>\n    <tr>\n      <td>5</td>\n      <td>Q450</td>\n      <td>Nord-Est</td>\n      <td>17</td>\n    </tr>\n    <tr>\n      <td>6</td>\n      <td>Q450</td>\n      <td>Nord-Ouest</td>\n      <td>21</td>\n    </tr>\n    <tr>\n      <td>7</td>\n      <td>Q450</td>\n      <td>Ouest</td>\n      <td>93</td>\n    </tr>\n    <tr>\n      <td>8</td>\n      <td>Q450</td>\n      <td>Sud</td>\n      <td>22</td>\n    </tr>\n    <tr>\n      <td>9</td>\n      <td>Q450</td>\n      <td>Sud-Est</td>\n      <td>15</td>\n    </tr>\n  </tbody>\n</table>\n</div>"
     },
     "metadata": {},
     "execution_count": 465
    }
   ],
   "source": [
    "## Referral capacity-functional ambulance at facility*\n",
    "#Q450\n",
    "#Q451\n",
    "#Q452\n",
    "#Q453\n",
    "\n",
    "col = 'Q450'\n",
    "val = spa_df_final[((spa_df_final[col] ==1.0)&(spa_df_final['Q451'] ==1.0)&(spa_df_final['Q453'] ==1.0)) |(spa_df_final['Q452'] ==1.0)][['DEPARTN','FACIL']]\n",
    "val[col]= col\n",
    "val.rename(columns = {col: 'SAS_VAR_NAME'},inplace =True)\n",
    "val=val.groupby(['SAS_VAR_NAME','DEPARTN']).size().to_frame().reset_index().rename(columns={0:'count'})\n",
    "map_dict['SAS_VAR_NAME'] += list(val['SAS_VAR_NAME'])\n",
    "map_dict['departn'] += list(val['DEPARTN'])\n",
    "map_dict['values'] += list(val['count'])\n",
    "val"
   ]
  },
  {
   "cell_type": "code",
   "execution_count": 466,
   "metadata": {},
   "outputs": [
    {
     "output_type": "execute_result",
     "data": {
      "text/plain": "  SAS_VAR_NAME     DEPARTN  count\n0      Q710_03  Artibonite    106\n1      Q710_03      Centre     42\n2      Q710_03  Grand'Anse     49\n3      Q710_03      Nippes     33\n4      Q710_03        Nord     91\n5      Q710_03    Nord-Est     40\n6      Q710_03  Nord-Ouest     81\n7      Q710_03       Ouest    306\n8      Q710_03         Sud     74\n9      Q710_03     Sud-Est     63",
      "text/html": "<div>\n<style scoped>\n    .dataframe tbody tr th:only-of-type {\n        vertical-align: middle;\n    }\n\n    .dataframe tbody tr th {\n        vertical-align: top;\n    }\n\n    .dataframe thead th {\n        text-align: right;\n    }\n</style>\n<table border=\"1\" class=\"dataframe\">\n  <thead>\n    <tr style=\"text-align: right;\">\n      <th></th>\n      <th>SAS_VAR_NAME</th>\n      <th>DEPARTN</th>\n      <th>count</th>\n    </tr>\n  </thead>\n  <tbody>\n    <tr>\n      <td>0</td>\n      <td>Q710_03</td>\n      <td>Artibonite</td>\n      <td>106</td>\n    </tr>\n    <tr>\n      <td>1</td>\n      <td>Q710_03</td>\n      <td>Centre</td>\n      <td>42</td>\n    </tr>\n    <tr>\n      <td>2</td>\n      <td>Q710_03</td>\n      <td>Grand'Anse</td>\n      <td>49</td>\n    </tr>\n    <tr>\n      <td>3</td>\n      <td>Q710_03</td>\n      <td>Nippes</td>\n      <td>33</td>\n    </tr>\n    <tr>\n      <td>4</td>\n      <td>Q710_03</td>\n      <td>Nord</td>\n      <td>91</td>\n    </tr>\n    <tr>\n      <td>5</td>\n      <td>Q710_03</td>\n      <td>Nord-Est</td>\n      <td>40</td>\n    </tr>\n    <tr>\n      <td>6</td>\n      <td>Q710_03</td>\n      <td>Nord-Ouest</td>\n      <td>81</td>\n    </tr>\n    <tr>\n      <td>7</td>\n      <td>Q710_03</td>\n      <td>Ouest</td>\n      <td>306</td>\n    </tr>\n    <tr>\n      <td>8</td>\n      <td>Q710_03</td>\n      <td>Sud</td>\n      <td>74</td>\n    </tr>\n    <tr>\n      <td>9</td>\n      <td>Q710_03</td>\n      <td>Sud-Est</td>\n      <td>63</td>\n    </tr>\n  </tbody>\n</table>\n</div>"
     },
     "metadata": {},
     "execution_count": 466
    }
   ],
   "source": [
    "## Soap and running water or else alcohol-based hand disinfectant\n",
    "#Q710_03  \n",
    "#Q710_08\n",
    "#Q710_01\n",
    "#Q710_02\n",
    "\n",
    "\n",
    "col = 'Q710_03'\n",
    "val = spa_df_final[((spa_df_final[col] ==1.0 )| (spa_df_final['Q710_08'] ==1.0))|((spa_df_final['Q710_01'] ==1.0 )& (spa_df_final['Q710_02'] ==1.0))][['DEPARTN','FACIL']]\n",
    "val[col]= col\n",
    "val.rename(columns = {col: 'SAS_VAR_NAME'},inplace =True)\n",
    "val=val.groupby(['SAS_VAR_NAME','DEPARTN']).size().to_frame().reset_index().rename(columns={0:'count'})\n",
    "map_dict['SAS_VAR_NAME'] += list(val['SAS_VAR_NAME'])\n",
    "map_dict['departn'] += list(val['DEPARTN'])\n",
    "map_dict['values'] += list(val['count'])\n",
    "val"
   ]
  },
  {
   "cell_type": "code",
   "execution_count": 467,
   "metadata": {},
   "outputs": [
    {
     "output_type": "execute_result",
     "data": {
      "text/plain": "  SAS_VAR_NAME     DEPARTN  count\n0    Q1622B_12  Artibonite    120\n1    Q1622B_12      Centre     52\n2    Q1622B_12  Grand'Anse     50\n3    Q1622B_12      Nippes     34\n4    Q1622B_12        Nord    107\n5    Q1622B_12    Nord-Est     40\n6    Q1622B_12  Nord-Ouest     84\n7    Q1622B_12       Ouest    362\n8    Q1622B_12         Sud     78\n9    Q1622B_12     Sud-Est     67",
      "text/html": "<div>\n<style scoped>\n    .dataframe tbody tr th:only-of-type {\n        vertical-align: middle;\n    }\n\n    .dataframe tbody tr th {\n        vertical-align: top;\n    }\n\n    .dataframe thead th {\n        text-align: right;\n    }\n</style>\n<table border=\"1\" class=\"dataframe\">\n  <thead>\n    <tr style=\"text-align: right;\">\n      <th></th>\n      <th>SAS_VAR_NAME</th>\n      <th>DEPARTN</th>\n      <th>count</th>\n    </tr>\n  </thead>\n  <tbody>\n    <tr>\n      <td>0</td>\n      <td>Q1622B_12</td>\n      <td>Artibonite</td>\n      <td>120</td>\n    </tr>\n    <tr>\n      <td>1</td>\n      <td>Q1622B_12</td>\n      <td>Centre</td>\n      <td>52</td>\n    </tr>\n    <tr>\n      <td>2</td>\n      <td>Q1622B_12</td>\n      <td>Grand'Anse</td>\n      <td>50</td>\n    </tr>\n    <tr>\n      <td>3</td>\n      <td>Q1622B_12</td>\n      <td>Nippes</td>\n      <td>34</td>\n    </tr>\n    <tr>\n      <td>4</td>\n      <td>Q1622B_12</td>\n      <td>Nord</td>\n      <td>107</td>\n    </tr>\n    <tr>\n      <td>5</td>\n      <td>Q1622B_12</td>\n      <td>Nord-Est</td>\n      <td>40</td>\n    </tr>\n    <tr>\n      <td>6</td>\n      <td>Q1622B_12</td>\n      <td>Nord-Ouest</td>\n      <td>84</td>\n    </tr>\n    <tr>\n      <td>7</td>\n      <td>Q1622B_12</td>\n      <td>Ouest</td>\n      <td>362</td>\n    </tr>\n    <tr>\n      <td>8</td>\n      <td>Q1622B_12</td>\n      <td>Sud</td>\n      <td>78</td>\n    </tr>\n    <tr>\n      <td>9</td>\n      <td>Q1622B_12</td>\n      <td>Sud-Est</td>\n      <td>67</td>\n    </tr>\n  </tbody>\n</table>\n</div>"
     },
     "metadata": {},
     "execution_count": 467
    }
   ],
   "source": [
    "## Stethoscope\n",
    "\n",
    "\"\"\"\n",
    "\n",
    "Q1622B_12\n",
    "Q700B_07\n",
    "Q1210B_04\n",
    "Q1314B_03\n",
    "Q1421B_03\n",
    "Q1421B_05\n",
    "Q1622B_12\n",
    "Q1622B_14\n",
    "Q2331B_07\n",
    "\n",
    "\"\"\"\n",
    "\n",
    "\n",
    "col = 'Q1622B_12'\n",
    "val = spa_df_final[(spa_df_final[col] ==1.0 )| (spa_df_final['Q700B_07'] ==1.0) |(spa_df_final['Q1210B_04'] ==1.0)|(spa_df_final['Q1421B_3'] ==1.0)|(spa_df_final['Q1421B_3'] ==1.0)|(spa_df_final['Q1421B_5'] ==1.0)|(spa_df_final['Q1622B_12'] ==1.0)|(spa_df_final['Q1622B_14'] ==1.0)|(spa_df_final['Q2331B_07'] ==1.0)][['DEPARTN','FACIL']]\n",
    "val[col]= col\n",
    "val.rename(columns = {col: 'SAS_VAR_NAME'},inplace =True)\n",
    "val=val.groupby(['SAS_VAR_NAME','DEPARTN']).size().to_frame().reset_index().rename(columns={0:'count'})\n",
    "map_dict['SAS_VAR_NAME'] += list(val['SAS_VAR_NAME'])\n",
    "map_dict['departn'] += list(val['DEPARTN'])\n",
    "map_dict['values'] += list(val['count'])\n",
    "val"
   ]
  },
  {
   "cell_type": "code",
   "execution_count": 472,
   "metadata": {},
   "outputs": [
    {
     "output_type": "execute_result",
     "data": {
      "text/plain": "  SAS_VAR_NAME     DEPARTN  count\n0     Q700B_06  Artibonite    111\n1     Q700B_06      Centre     50\n2     Q700B_06  Grand'Anse     48\n3     Q700B_06      Nippes     34\n4     Q700B_06        Nord    105\n5     Q700B_06    Nord-Est     39\n6     Q700B_06  Nord-Ouest     83\n7     Q700B_06       Ouest    351\n8     Q700B_06         Sud     79\n9     Q700B_06     Sud-Est     65",
      "text/html": "<div>\n<style scoped>\n    .dataframe tbody tr th:only-of-type {\n        vertical-align: middle;\n    }\n\n    .dataframe tbody tr th {\n        vertical-align: top;\n    }\n\n    .dataframe thead th {\n        text-align: right;\n    }\n</style>\n<table border=\"1\" class=\"dataframe\">\n  <thead>\n    <tr style=\"text-align: right;\">\n      <th></th>\n      <th>SAS_VAR_NAME</th>\n      <th>DEPARTN</th>\n      <th>count</th>\n    </tr>\n  </thead>\n  <tbody>\n    <tr>\n      <td>0</td>\n      <td>Q700B_06</td>\n      <td>Artibonite</td>\n      <td>111</td>\n    </tr>\n    <tr>\n      <td>1</td>\n      <td>Q700B_06</td>\n      <td>Centre</td>\n      <td>50</td>\n    </tr>\n    <tr>\n      <td>2</td>\n      <td>Q700B_06</td>\n      <td>Grand'Anse</td>\n      <td>48</td>\n    </tr>\n    <tr>\n      <td>3</td>\n      <td>Q700B_06</td>\n      <td>Nippes</td>\n      <td>34</td>\n    </tr>\n    <tr>\n      <td>4</td>\n      <td>Q700B_06</td>\n      <td>Nord</td>\n      <td>105</td>\n    </tr>\n    <tr>\n      <td>5</td>\n      <td>Q700B_06</td>\n      <td>Nord-Est</td>\n      <td>39</td>\n    </tr>\n    <tr>\n      <td>6</td>\n      <td>Q700B_06</td>\n      <td>Nord-Ouest</td>\n      <td>83</td>\n    </tr>\n    <tr>\n      <td>7</td>\n      <td>Q700B_06</td>\n      <td>Ouest</td>\n      <td>351</td>\n    </tr>\n    <tr>\n      <td>8</td>\n      <td>Q700B_06</td>\n      <td>Sud</td>\n      <td>79</td>\n    </tr>\n    <tr>\n      <td>9</td>\n      <td>Q700B_06</td>\n      <td>Sud-Est</td>\n      <td>65</td>\n    </tr>\n  </tbody>\n</table>\n</div>"
     },
     "metadata": {},
     "execution_count": 472
    }
   ],
   "source": [
    "\"\"\"\n",
    "Thermometer\n",
    "\n",
    "Q700B_06\n",
    "Q1210B_03\n",
    "Q1622B_09\n",
    "Q1622B_10\n",
    "Q2331B_06\n",
    "\n",
    "\n",
    "\"\"\"\n",
    "\n",
    "\n",
    "col = 'Q700B_06'\n",
    "val = spa_df_final[(spa_df_final[col] ==1.0 )| (spa_df_final['Q1210B_03'] ==1.0) |(spa_df_final['Q1210B_03'] ==1.0)|(spa_df_final['Q1622B_10'] ==1.0)|(spa_df_final['Q2331B_06'] ==1.0)][['DEPARTN','FACIL']]\n",
    "val[col]= col\n",
    "val.rename(columns = {col: 'SAS_VAR_NAME'},inplace =True)\n",
    "val=val.groupby(['SAS_VAR_NAME','DEPARTN']).size().to_frame().reset_index().rename(columns={0:'count'})\n",
    "map_dict['SAS_VAR_NAME'] += list(val['SAS_VAR_NAME'])\n",
    "map_dict['departn'] += list(val['DEPARTN'])\n",
    "map_dict['values'] += list(val['count'])\n",
    "val"
   ]
  },
  {
   "cell_type": "code",
   "execution_count": null,
   "metadata": {},
   "outputs": [],
   "source": [
    "\"\"\"\n",
    "X ray machine*\n",
    "Q881B_01\n",
    "Q881B_02\n",
    "Q880\n",
    "\n",
    "\"\"\"\n",
    "col = 'Q881B_01'\n",
    "val = spa_df_final[(spa_df_final[col] ==1.0 )| (spa_df_final['Q881B_02'] ==1.0) |(spa_df_final['Q880'] ==1.0)][['DEPARTN','FACIL']]\n",
    "val[col]= col\n",
    "val.rename(columns = {col: 'SAS_VAR_NAME'},inplace =True)\n",
    "val=val.groupby(['SAS_VAR_NAME','DEPARTN']).size().to_frame().reset_index().rename(columns={0:'count'})\n",
    "map_dict['SAS_VAR_NAME'] += list(val['SAS_VAR_NAME'])\n",
    "map_dict['departn'] += list(val['DEPARTN'])\n",
    "map_dict['values'] += list(val['count'])\n",
    "val"
   ]
  },
  {
   "cell_type": "code",
   "execution_count": null,
   "metadata": {},
   "outputs": [],
   "source": []
  },
  {
   "cell_type": "code",
   "execution_count": 468,
   "metadata": {},
   "outputs": [
    {
     "output_type": "execute_result",
     "data": {
      "text/plain": "  SAS_VAR_NAME     departn  values\n0         Q110  Artibonite    24.0\n1         Q110      Centre    13.0\n2         Q110  Grand'Anse     9.0\n3         Q110      Nippes     9.0\n4         Q110        Nord    31.0",
      "text/html": "<div>\n<style scoped>\n    .dataframe tbody tr th:only-of-type {\n        vertical-align: middle;\n    }\n\n    .dataframe tbody tr th {\n        vertical-align: top;\n    }\n\n    .dataframe thead th {\n        text-align: right;\n    }\n</style>\n<table border=\"1\" class=\"dataframe\">\n  <thead>\n    <tr style=\"text-align: right;\">\n      <th></th>\n      <th>SAS_VAR_NAME</th>\n      <th>departn</th>\n      <th>values</th>\n    </tr>\n  </thead>\n  <tbody>\n    <tr>\n      <td>0</td>\n      <td>Q110</td>\n      <td>Artibonite</td>\n      <td>24.0</td>\n    </tr>\n    <tr>\n      <td>1</td>\n      <td>Q110</td>\n      <td>Centre</td>\n      <td>13.0</td>\n    </tr>\n    <tr>\n      <td>2</td>\n      <td>Q110</td>\n      <td>Grand'Anse</td>\n      <td>9.0</td>\n    </tr>\n    <tr>\n      <td>3</td>\n      <td>Q110</td>\n      <td>Nippes</td>\n      <td>9.0</td>\n    </tr>\n    <tr>\n      <td>4</td>\n      <td>Q110</td>\n      <td>Nord</td>\n      <td>31.0</td>\n    </tr>\n  </tbody>\n</table>\n</div>"
     },
     "metadata": {},
     "execution_count": 468
    }
   ],
   "source": [
    "df =pd.DataFrame(map_dict)\n",
    "df.head()"
   ]
  },
  {
   "cell_type": "code",
   "execution_count": 469,
   "metadata": {},
   "outputs": [],
   "source": [
    "df = pd.merge(df_var_name,df,how='inner',on ='SAS_VAR_NAME')\n",
    "df = df[df['Ranking'] == 'Top-Tier']"
   ]
  },
  {
   "cell_type": "code",
   "execution_count": 470,
   "metadata": {},
   "outputs": [],
   "source": [
    "df2=pd.pivot_table(df,index =['CAT_DESC','GLOBAL_VAR_NAME' ,'VAR_NAME'],columns='departn',values ='values', aggfunc = np.sum,fill_value =0)\n"
   ]
  },
  {
   "cell_type": "code",
   "execution_count": 471,
   "metadata": {},
   "outputs": [
    {
     "output_type": "execute_result",
     "data": {
      "text/plain": "                              Medical masks                                             28   \n\ndepartn                                                                                                                             Nippes  \\\nCAT_DESC                       GLOBAL_VAR_NAME                                    VAR_NAME                                                   \nCapacity                       Number of facitilies                               Facility identification                               35   \n                               Number of generalists, full-time                   MEDECINS GENERALISTES                                 48   \n                               Number of lab assistants, full-time                AUXILIAIRE DE LABORATOIRE (Y COMPRIS AIDE)             5   \n                               Number of lab technicians, full-time               TECHNICIEN DE LABORATOIRE                             41   \n                               Number of nurses, full-time                        INFERMIER                                             82   \n                               Number of pharmacist, full-time                    PHARMACIEN                                             5   \n                               Total full-time staff                              TOTAL FULL-TIME STAFF                                423   \nDiagnostic Capacity            Stethoscope                                        Other equip:Stethoscope                               34   \nInfection Prevention           Appropriate storage of sharp waste                 Sharps container                                      32   \n                               Improved water source                              Water onsite/within 500 meters                        37   \n                               Regular electricity                                Facility connected to central supply electricity      68   \n                               Soap and running water or else alcohol-based ha... Alcohol based hand rub                                53   \nInpatient care                 Inpatient care                                     Routine in-patient care or Overnight observation      68   \n                               Number of hospital beds                            Number of overnight/in-patient beds                  149   \n                               Oxygen-filled oxygen cylinders                     Oxygen concentrators available and functioning         6   \n                               Referral capacity-functional ambulance at facil... Functional ambulance at facility                       9   \nPersonal Protective Equipment  Latex Gloves                                       Clean/sterile latex gloves                            33   \n                               Medical Masks                                      Medical masks                                         24   \n\ndepartn                                                                                                                             Nord  \\\nCAT_DESC                       GLOBAL_VAR_NAME                                    VAR_NAME                                                 \nCapacity                       Number of facitilies                               Facility identification                            108   \n                               Number of generalists, full-time                   MEDECINS GENERALISTES                              192   \n                               Number of lab assistants, full-time                AUXILIAIRE DE LABORATOIRE (Y COMPRIS AIDE)          15   \n                               Number of lab technicians, full-time               TECHNICIEN DE LABORATOIRE                          234   \n                               Number of nurses, full-time                        INFERMIER                                          575   \n                               Number of pharmacist, full-time                    PHARMACIEN                                          23   \n                               Total full-time staff                              TOTAL FULL-TIME STAFF                             2045   \nDiagnostic Capacity            Stethoscope                                        Other equip:Stethoscope                            107   \nInfection Prevention           Appropriate storage of sharp waste                 Sharps container                                    83   \n                               Improved water source                              Water onsite/within 500 meters                     174   \n                               Regular electricity                                Facility connected to central supply electricity   214   \n                               Soap and running water or else alcohol-based ha... Alcohol based hand rub                             156   \nInpatient care                 Inpatient care                                     Routine in-patient care or Overnight observation   214   \n                               Number of hospital beds                            Number of overnight/in-patient beds                933   \n                               Oxygen-filled oxygen cylinders                     Oxygen concentrators available and functioning      20   \n                               Referral capacity-functional ambulance at facil... Functional ambulance at facility                    27   \nPersonal Protective Equipment  Latex Gloves                                       Clean/sterile latex gloves                          97   \n                               Medical Masks                                      Medical masks                                       61   \n\ndepartn                                                                                                                             Nord-Est  \\\nCAT_DESC                       GLOBAL_VAR_NAME                                    VAR_NAME                                                     \nCapacity                       Number of facitilies                               Facility identification                                 41   \n                               Number of generalists, full-time                   MEDECINS GENERALISTES                                   59   \n                               Number of lab assistants, full-time                AUXILIAIRE DE LABORATOIRE (Y COMPRIS AIDE)               3   \n                               Number of lab technicians, full-time               TECHNICIEN DE LABORATOIRE                               55   \n                               Number of nurses, full-time                        INFERMIER                                              148   \n                               Number of pharmacist, full-time                    PHARMACIEN                                               4   \n                               Total full-time staff                              TOTAL FULL-TIME STAFF                                  745   \nDiagnostic Capacity            Stethoscope                                        Other equip:Stethoscope                                 40   \nInfection Prevention           Appropriate storage of sharp waste                 Sharps container                                        36   \n                               Improved water source                              Water onsite/within 500 meters                          60   \n                               Regular electricity                                Facility connected to central supply electricity        82   \n                               Soap and running water or else alcohol-based ha... Alcohol based hand rub                                  66   \nInpatient care                 Inpatient care                                     Routine in-patient care or Overnight observation        82   \n                               Number of hospital beds                            Number of overnight/in-patient beds                    208   \n                               Oxygen-filled oxygen cylinders                     Oxygen concentrators available and functioning          10   \n                               Referral capacity-functional ambulance at facil... Functional ambulance at facility                        17   \nPersonal Protective Equipment  Latex Gloves                                       Clean/sterile latex gloves                              39   \n                               Medical Masks                                      Medical masks                                           27   \n\ndepartn                                                                                                                             Nord-Ouest  \\\nCAT_DESC                       GLOBAL_VAR_NAME                                    VAR_NAME                                                       \nCapacity                       Number of facitilies                               Facility identification                                   87   \n                               Number of generalists, full-time                   MEDECINS GENERALISTES                                     43   \n                               Number of lab assistants, full-time                AUXILIAIRE DE LABORATOIRE (Y COMPRIS AIDE)                 7   \n                               Number of lab technicians, full-time               TECHNICIEN DE LABORATOIRE                                 84   \n                               Number of nurses, full-time                        INFERMIER                                                177   \n                               Number of pharmacist, full-time                    PHARMACIEN                                                 5   \n                               Total full-time staff                              TOTAL FULL-TIME STAFF                                   1051   \nDiagnostic Capacity            Stethoscope                                        Other equip:Stethoscope                                   84   \nInfection Prevention           Appropriate storage of sharp waste                 Sharps container                                          77   \n                               Improved water source                              Water onsite/within 500 meters                           127   \n                               Regular electricity                                Facility connected to central supply electricity         168   \n                               Soap and running water or else alcohol-based ha... Alcohol based hand rub                                   121   \nInpatient care                 Inpatient care                                     Routine in-patient care or Overnight observation         168   \n                               Number of hospital beds                            Number of overnight/in-patient beds                      422   \n                               Oxygen-filled oxygen cylinders                     Oxygen concentrators available and functioning            10   \n                               Referral capacity-functional ambulance at facil... Functional ambulance at facility                          21   \nPersonal Protective Equipment  Latex Gloves                                       Clean/sterile latex gloves                                77   \n                               Medical Masks                                      Medical masks                                             39   \n\ndepartn                                                                                                                             Ouest  \\\nCAT_DESC                       GLOBAL_VAR_NAME                                    VAR_NAME                                                  \nCapacity                       Number of facitilies                               Facility identification                             380   \n                               Number of generalists, full-time                   MEDECINS GENERALISTES                               805   \n                               Number of lab assistants, full-time                AUXILIAIRE DE LABORATOIRE (Y COMPRIS AIDE)           65   \n                               Number of lab technicians, full-time               TECHNICIEN DE LABORATOIRE                           908   \n                               Number of nurses, full-time                        INFERMIER                                          2150   \n                               Number of pharmacist, full-time                    PHARMACIEN                                          180   \n                               Total full-time staff                              TOTAL FULL-TIME STAFF                              8623   \nDiagnostic Capacity            Stethoscope                                        Other equip:Stethoscope                             362   \nInfection Prevention           Appropriate storage of sharp waste                 Sharps container                                    260   \n                               Improved water source                              Water onsite/within 500 meters                      427   \n                               Regular electricity                                Facility connected to central supply electricity    732   \n                               Soap and running water or else alcohol-based ha... Alcohol based hand rub                              474   \nInpatient care                 Inpatient care                                     Routine in-patient care or Overnight observation    732   \n                               Number of hospital beds                            Number of overnight/in-patient beds                3819   \n                               Oxygen-filled oxygen cylinders                     Oxygen concentrators available and functioning       80   \n                               Referral capacity-functional ambulance at facil... Functional ambulance at facility                     93   \nPersonal Protective Equipment  Latex Gloves                                       Clean/sterile latex gloves                          296   \n                               Medical Masks                                      Medical masks                                       148   \n\ndepartn                                                                                                                              Sud  \\\nCAT_DESC                       GLOBAL_VAR_NAME                                    VAR_NAME                                                 \nCapacity                       Number of facitilies                               Facility identification                             80   \n                               Number of generalists, full-time                   MEDECINS GENERALISTES                              127   \n                               Number of lab assistants, full-time                AUXILIAIRE DE LABORATOIRE (Y COMPRIS AIDE)           7   \n                               Number of lab technicians, full-time               TECHNICIEN DE LABORATOIRE                          158   \n                               Number of nurses, full-time                        INFERMIER                                          418   \n                               Number of pharmacist, full-time                    PHARMACIEN                                          15   \n                               Total full-time staff                              TOTAL FULL-TIME STAFF                             1572   \nDiagnostic Capacity            Stethoscope                                        Other equip:Stethoscope                             78   \nInfection Prevention           Appropriate storage of sharp waste                 Sharps container                                    60   \n                               Improved water source                              Water onsite/within 500 meters                     113   \n                               Regular electricity                                Facility connected to central supply electricity   158   \n                               Soap and running water or else alcohol-based ha... Alcohol based hand rub                             127   \nInpatient care                 Inpatient care                                     Routine in-patient care or Overnight observation   158   \n                               Number of hospital beds                            Number of overnight/in-patient beds                704   \n                               Oxygen-filled oxygen cylinders                     Oxygen concentrators available and functioning      18   \n                               Referral capacity-functional ambulance at facil... Functional ambulance at facility                    22   \nPersonal Protective Equipment  Latex Gloves                                       Clean/sterile latex gloves                          68   \n                               Medical Masks                                      Medical masks                                       40   \n\ndepartn                                                                                                                             Sud-Est  \nCAT_DESC                       GLOBAL_VAR_NAME                                    VAR_NAME                                                   \nCapacity                       Number of facitilies                               Facility identification                                70  \n                               Number of generalists, full-time                   MEDECINS GENERALISTES                                  76  \n                               Number of lab assistants, full-time                AUXILIAIRE DE LABORATOIRE (Y COMPRIS AIDE)              8  \n                               Number of lab technicians, full-time               TECHNICIEN DE LABORATOIRE                              48  \n                               Number of nurses, full-time                        INFERMIER                                             198  \n                               Number of pharmacist, full-time                    PHARMACIEN                                              6  \n                               Total full-time staff                              TOTAL FULL-TIME STAFF                                 732  \nDiagnostic Capacity            Stethoscope                                        Other equip:Stethoscope                                67  \nInfection Prevention           Appropriate storage of sharp waste                 Sharps container                                       61  \n                               Improved water source                              Water onsite/within 500 meters                        104  \n                               Regular electricity                                Facility connected to central supply electricity      138  \n                               Soap and running water or else alcohol-based ha... Alcohol based hand rub                                109  \nInpatient care                 Inpatient care                                     Routine in-patient care or Overnight observation      138  \n                               Number of hospital beds                            Number of overnight/in-patient beds                   283  \n                               Oxygen-filled oxygen cylinders                     Oxygen concentrators available and functioning         14  \n                               Referral capacity-functional ambulance at facil... Functional ambulance at facility                       15  \nPersonal Protective Equipment  Latex Gloves                                       Clean/sterile latex gloves                             65  \n                               Medical Masks                                      Medical masks                                          31  ",
      "text/html": "<div>\n<style scoped>\n    .dataframe tbody tr th:only-of-type {\n        vertical-align: middle;\n    }\n\n    .dataframe tbody tr th {\n        vertical-align: top;\n    }\n\n    .dataframe thead th {\n        text-align: right;\n    }\n</style>\n<table border=\"1\" class=\"dataframe\">\n  <thead>\n    <tr style=\"text-align: right;\">\n      <th></th>\n      <th></th>\n      <th>departn</th>\n      <th>Artibonite</th>\n      <th>Centre</th>\n      <th>Grand'Anse</th>\n      <th>Nippes</th>\n      <th>Nord</th>\n      <th>Nord-Est</th>\n      <th>Nord-Ouest</th>\n      <th>Ouest</th>\n      <th>Sud</th>\n      <th>Sud-Est</th>\n    </tr>\n    <tr>\n      <th>CAT_DESC</th>\n      <th>GLOBAL_VAR_NAME</th>\n      <th>VAR_NAME</th>\n      <th></th>\n      <th></th>\n      <th></th>\n      <th></th>\n      <th></th>\n      <th></th>\n      <th></th>\n      <th></th>\n      <th></th>\n      <th></th>\n    </tr>\n  </thead>\n  <tbody>\n    <tr>\n      <td rowspan=\"7\" valign=\"top\">Capacity</td>\n      <td>Number of facitilies</td>\n      <td>Facility identification</td>\n      <td>124</td>\n      <td>55</td>\n      <td>53</td>\n      <td>35</td>\n      <td>108</td>\n      <td>41</td>\n      <td>87</td>\n      <td>380</td>\n      <td>80</td>\n      <td>70</td>\n    </tr>\n    <tr>\n      <td>Number of generalists, full-time</td>\n      <td>MEDECINS GENERALISTES</td>\n      <td>102</td>\n      <td>79</td>\n      <td>37</td>\n      <td>48</td>\n      <td>192</td>\n      <td>59</td>\n      <td>43</td>\n      <td>805</td>\n      <td>127</td>\n      <td>76</td>\n    </tr>\n    <tr>\n      <td>Number of lab assistants, full-time</td>\n      <td>AUXILIAIRE DE LABORATOIRE (Y COMPRIS AIDE)</td>\n      <td>23</td>\n      <td>16</td>\n      <td>1</td>\n      <td>5</td>\n      <td>15</td>\n      <td>3</td>\n      <td>7</td>\n      <td>65</td>\n      <td>7</td>\n      <td>8</td>\n    </tr>\n    <tr>\n      <td>Number of lab technicians, full-time</td>\n      <td>TECHNICIEN DE LABORATOIRE</td>\n      <td>125</td>\n      <td>81</td>\n      <td>48</td>\n      <td>41</td>\n      <td>234</td>\n      <td>55</td>\n      <td>84</td>\n      <td>908</td>\n      <td>158</td>\n      <td>48</td>\n    </tr>\n    <tr>\n      <td>Number of nurses, full-time</td>\n      <td>INFERMIER</td>\n      <td>395</td>\n      <td>141</td>\n      <td>159</td>\n      <td>82</td>\n      <td>575</td>\n      <td>148</td>\n      <td>177</td>\n      <td>2150</td>\n      <td>418</td>\n      <td>198</td>\n    </tr>\n    <tr>\n      <td>Number of pharmacist, full-time</td>\n      <td>PHARMACIEN</td>\n      <td>14</td>\n      <td>15</td>\n      <td>2</td>\n      <td>5</td>\n      <td>23</td>\n      <td>4</td>\n      <td>5</td>\n      <td>180</td>\n      <td>15</td>\n      <td>6</td>\n    </tr>\n    <tr>\n      <td>Total full-time staff</td>\n      <td>TOTAL FULL-TIME STAFF</td>\n      <td>2188</td>\n      <td>1087</td>\n      <td>729</td>\n      <td>423</td>\n      <td>2045</td>\n      <td>745</td>\n      <td>1051</td>\n      <td>8623</td>\n      <td>1572</td>\n      <td>732</td>\n    </tr>\n    <tr>\n      <td>Diagnostic Capacity</td>\n      <td>Stethoscope</td>\n      <td>Other equip:Stethoscope</td>\n      <td>120</td>\n      <td>52</td>\n      <td>50</td>\n      <td>34</td>\n      <td>107</td>\n      <td>40</td>\n      <td>84</td>\n      <td>362</td>\n      <td>78</td>\n      <td>67</td>\n    </tr>\n    <tr>\n      <td rowspan=\"4\" valign=\"top\">Infection Prevention</td>\n      <td>Appropriate storage of sharp waste</td>\n      <td>Sharps container</td>\n      <td>107</td>\n      <td>44</td>\n      <td>49</td>\n      <td>32</td>\n      <td>83</td>\n      <td>36</td>\n      <td>77</td>\n      <td>260</td>\n      <td>60</td>\n      <td>61</td>\n    </tr>\n    <tr>\n      <td>Improved water source</td>\n      <td>Water onsite/within 500 meters</td>\n      <td>202</td>\n      <td>66</td>\n      <td>97</td>\n      <td>37</td>\n      <td>174</td>\n      <td>60</td>\n      <td>127</td>\n      <td>427</td>\n      <td>113</td>\n      <td>104</td>\n    </tr>\n    <tr>\n      <td>Regular electricity</td>\n      <td>Facility connected to central supply electricity</td>\n      <td>242</td>\n      <td>106</td>\n      <td>106</td>\n      <td>68</td>\n      <td>214</td>\n      <td>82</td>\n      <td>168</td>\n      <td>732</td>\n      <td>158</td>\n      <td>138</td>\n    </tr>\n    <tr>\n      <td>Soap and running water or else alcohol-based hand disinfectant</td>\n      <td>Alcohol based hand rub</td>\n      <td>154</td>\n      <td>65</td>\n      <td>81</td>\n      <td>53</td>\n      <td>156</td>\n      <td>66</td>\n      <td>121</td>\n      <td>474</td>\n      <td>127</td>\n      <td>109</td>\n    </tr>\n    <tr>\n      <td rowspan=\"4\" valign=\"top\">Inpatient care</td>\n      <td>Inpatient care</td>\n      <td>Routine in-patient care or Overnight observation</td>\n      <td>242</td>\n      <td>106</td>\n      <td>106</td>\n      <td>68</td>\n      <td>214</td>\n      <td>82</td>\n      <td>168</td>\n      <td>732</td>\n      <td>158</td>\n      <td>138</td>\n    </tr>\n    <tr>\n      <td>Number of hospital beds</td>\n      <td>Number of overnight/in-patient beds</td>\n      <td>866</td>\n      <td>678</td>\n      <td>265</td>\n      <td>149</td>\n      <td>933</td>\n      <td>208</td>\n      <td>422</td>\n      <td>3819</td>\n      <td>704</td>\n      <td>283</td>\n    </tr>\n    <tr>\n      <td>Oxygen-filled oxygen cylinders</td>\n      <td>Oxygen concentrators available and functioning</td>\n      <td>13</td>\n      <td>11</td>\n      <td>6</td>\n      <td>6</td>\n      <td>20</td>\n      <td>10</td>\n      <td>10</td>\n      <td>80</td>\n      <td>18</td>\n      <td>14</td>\n    </tr>\n    <tr>\n      <td>Referral capacity-functional ambulance at facility*</td>\n      <td>Functional ambulance at facility</td>\n      <td>30</td>\n      <td>16</td>\n      <td>17</td>\n      <td>9</td>\n      <td>27</td>\n      <td>17</td>\n      <td>21</td>\n      <td>93</td>\n      <td>22</td>\n      <td>15</td>\n    </tr>\n    <tr>\n      <td rowspan=\"2\" valign=\"top\">Personal Protective Equipment</td>\n      <td>Latex Gloves</td>\n      <td>Clean/sterile latex gloves</td>\n      <td>109</td>\n      <td>43</td>\n      <td>49</td>\n      <td>33</td>\n      <td>97</td>\n      <td>39</td>\n      <td>77</td>\n      <td>296</td>\n      <td>68</td>\n      <td>65</td>\n    </tr>\n    <tr>\n      <td>Medical Masks</td>\n      <td>Medical masks</td>\n      <td>53</td>\n      <td>23</td>\n      <td>28</td>\n      <td>24</td>\n      <td>61</td>\n      <td>27</td>\n      <td>39</td>\n      <td>148</td>\n      <td>40</td>\n      <td>31</td>\n    </tr>\n  </tbody>\n</table>\n</div>"
     },
     "metadata": {},
     "execution_count": 471
    }
   ],
   "source": [
    "df2"
   ]
  },
  {
   "cell_type": "code",
   "execution_count": 418,
   "metadata": {},
   "outputs": [],
   "source": [
    "df2.to_excel('outputs/COVID_19_RISK_ASSESSMENT3.xlsx')"
   ]
  },
  {
   "cell_type": "code",
   "execution_count": null,
   "metadata": {},
   "outputs": [],
   "source": []
  },
  {
   "cell_type": "code",
   "execution_count": null,
   "metadata": {},
   "outputs": [],
   "source": []
  }
 ],
 "metadata": {
  "kernelspec": {
   "display_name": "Python 3.7.6 64-bit ('base': conda)",
   "language": "python",
   "name": "python37664bitbaseconda3c74622f8e6340f68f6941cdb10a81ab"
  },
  "language_info": {
   "codemirror_mode": {
    "name": "ipython",
    "version": 3
   },
   "file_extension": ".py",
   "mimetype": "text/x-python",
   "name": "python",
   "nbconvert_exporter": "python",
   "pygments_lexer": "ipython3",
   "version": "3.7.6-final"
  }
 },
 "nbformat": 4,
 "nbformat_minor": 2
}